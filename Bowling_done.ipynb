{
 "cells": [
  {
   "cell_type": "code",
   "execution_count": 1,
   "metadata": {},
   "outputs": [],
   "source": [
    "import requests\n",
    "import pandas as pd\n",
    "import sqlite3\n",
    "import lxml.html"
   ]
  },
  {
   "cell_type": "code",
   "execution_count": 2,
   "metadata": {},
   "outputs": [],
   "source": [
    "r = requests.get(\"https://www.pba.com/players/jason-belmonte\")"
   ]
  },
  {
   "cell_type": "code",
   "execution_count": 3,
   "metadata": {},
   "outputs": [
    {
     "data": {
      "text/plain": [
       "<Response [200]>"
      ]
     },
     "execution_count": 3,
     "metadata": {},
     "output_type": "execute_result"
    }
   ],
   "source": [
    "r"
   ]
  },
  {
   "cell_type": "code",
   "execution_count": 4,
   "metadata": {},
   "outputs": [],
   "source": [
    "html         = lxml.html.fromstring(r.text)\n",
    "core         = html.xpath('/html/body/div[1]/div/main/div/div[2]/div[2]/div/div/div[2]/article/div/div[4]/div[1]/div[2]/div/div/div/div/table')\n",
    "tbody        = core[0].getchildren()\n",
    "#div          = tbody[0].getchildren()"
   ]
  },
  {
   "cell_type": "code",
   "execution_count": 5,
   "metadata": {},
   "outputs": [
    {
     "data": {
      "text/plain": [
       "[<Element thead at 0x7fdd44412450>, <Element tbody at 0x7fdd444124a0>]"
      ]
     },
     "execution_count": 5,
     "metadata": {},
     "output_type": "execute_result"
    }
   ],
   "source": [
    "tbody"
   ]
  },
  {
   "cell_type": "code",
   "execution_count": 6,
   "metadata": {},
   "outputs": [
    {
     "data": {
      "text/plain": [
       "'\\n                                                Year\\n                                                Events\\n                                                Cashes\\n                                                Match Play\\n                                                CRA\\n                                                Titles\\n                                                AVG\\n                                                Earnings\\n              '"
      ]
     },
     "execution_count": 6,
     "metadata": {},
     "output_type": "execute_result"
    }
   ],
   "source": [
    "tbody[0].getchildren()[0].text_content()"
   ]
  },
  {
   "cell_type": "code",
   "execution_count": 7,
   "metadata": {},
   "outputs": [
    {
     "data": {
      "text/plain": [
       "13"
      ]
     },
     "execution_count": 7,
     "metadata": {},
     "output_type": "execute_result"
    }
   ],
   "source": [
    "len(tbody[1])"
   ]
  },
  {
   "cell_type": "code",
   "execution_count": 8,
   "metadata": {},
   "outputs": [],
   "source": [
    "data = {\n",
    "    \"Years\":            [],\n",
    "    \"Events\":           [],\n",
    "    \"Cashes\":           [],\n",
    "    \"Match Play\":       [],\n",
    "    \"CRA\":              [],\n",
    "    \"Titles\":           [],\n",
    "    \"AVG\":              [],\n",
    "    \"Earnings\":         [],\n",
    "}\n",
    "\n",
    "for row in tbody[1].getchildren()[1:13]:\n",
    "    data[\"Years\"].append(row.getchildren()[0].text_content().strip())\n",
    "    data[\"Events\"].append(row.getchildren()[1].text_content().strip())\n",
    "    data[\"Cashes\"].append(row.getchildren()[2].text_content().strip())\n",
    "    data[\"Match Play\"].append(row.getchildren()[3].text_content().strip())\n",
    "    data[\"CRA\"].append(row.getchildren()[4].text_content().strip())\n",
    "    data[\"Titles\"].append(row.getchildren()[5].text_content().strip())\n",
    "    data[\"AVG\"].append(row.getchildren()[6].text_content().strip())\n",
    "    data[\"Earnings\"].append(row.getchildren()[7].text_content().strip())\n",
    "df = pd.DataFrame(data)"
   ]
  },
  {
   "cell_type": "code",
   "execution_count": 9,
   "metadata": {},
   "outputs": [
    {
     "data": {
      "text/html": [
       "<div>\n",
       "<style scoped>\n",
       "    .dataframe tbody tr th:only-of-type {\n",
       "        vertical-align: middle;\n",
       "    }\n",
       "\n",
       "    .dataframe tbody tr th {\n",
       "        vertical-align: top;\n",
       "    }\n",
       "\n",
       "    .dataframe thead th {\n",
       "        text-align: right;\n",
       "    }\n",
       "</style>\n",
       "<table border=\"1\" class=\"dataframe\">\n",
       "  <thead>\n",
       "    <tr style=\"text-align: right;\">\n",
       "      <th></th>\n",
       "      <th>Years</th>\n",
       "      <th>Events</th>\n",
       "      <th>Cashes</th>\n",
       "      <th>Match Play</th>\n",
       "      <th>CRA</th>\n",
       "      <th>Titles</th>\n",
       "      <th>AVG</th>\n",
       "      <th>Earnings</th>\n",
       "    </tr>\n",
       "  </thead>\n",
       "  <tbody>\n",
       "    <tr>\n",
       "      <th>0</th>\n",
       "      <td>2020</td>\n",
       "      <td>9</td>\n",
       "      <td>9</td>\n",
       "      <td>7</td>\n",
       "      <td>5</td>\n",
       "      <td>2</td>\n",
       "      <td>226.790</td>\n",
       "      <td>$232,300.00</td>\n",
       "    </tr>\n",
       "    <tr>\n",
       "      <th>1</th>\n",
       "      <td>2019</td>\n",
       "      <td>19</td>\n",
       "      <td>17</td>\n",
       "      <td>15</td>\n",
       "      <td>12</td>\n",
       "      <td>4</td>\n",
       "      <td>225.620</td>\n",
       "      <td>$285,290.00</td>\n",
       "    </tr>\n",
       "    <tr>\n",
       "      <th>2</th>\n",
       "      <td>2018</td>\n",
       "      <td>14</td>\n",
       "      <td>10</td>\n",
       "      <td>6</td>\n",
       "      <td>3</td>\n",
       "      <td>2</td>\n",
       "      <td>221.380</td>\n",
       "      <td>$110,500.00</td>\n",
       "    </tr>\n",
       "    <tr>\n",
       "      <th>3</th>\n",
       "      <td>2017</td>\n",
       "      <td>15</td>\n",
       "      <td>15</td>\n",
       "      <td>11</td>\n",
       "      <td>7</td>\n",
       "      <td>4</td>\n",
       "      <td>229.390</td>\n",
       "      <td>$238,912.00</td>\n",
       "    </tr>\n",
       "    <tr>\n",
       "      <th>4</th>\n",
       "      <td>2016</td>\n",
       "      <td>24</td>\n",
       "      <td>15</td>\n",
       "      <td>11</td>\n",
       "      <td>6</td>\n",
       "      <td>0</td>\n",
       "      <td>224.750</td>\n",
       "      <td>$95,345.00</td>\n",
       "    </tr>\n",
       "    <tr>\n",
       "      <th>5</th>\n",
       "      <td>2015</td>\n",
       "      <td>20</td>\n",
       "      <td>15</td>\n",
       "      <td>11</td>\n",
       "      <td>11</td>\n",
       "      <td>2</td>\n",
       "      <td>225.400</td>\n",
       "      <td>$178,542.00</td>\n",
       "    </tr>\n",
       "    <tr>\n",
       "      <th>6</th>\n",
       "      <td>2014</td>\n",
       "      <td>18</td>\n",
       "      <td>17</td>\n",
       "      <td>6</td>\n",
       "      <td>4</td>\n",
       "      <td>3</td>\n",
       "      <td>226.710</td>\n",
       "      <td>$163,778.00</td>\n",
       "    </tr>\n",
       "    <tr>\n",
       "      <th>7</th>\n",
       "      <td>2013</td>\n",
       "      <td>26</td>\n",
       "      <td>21</td>\n",
       "      <td>13</td>\n",
       "      <td>10</td>\n",
       "      <td>2</td>\n",
       "      <td>228.810</td>\n",
       "      <td>$186,464.59</td>\n",
       "    </tr>\n",
       "    <tr>\n",
       "      <th>8</th>\n",
       "      <td>2011</td>\n",
       "      <td>13</td>\n",
       "      <td>12</td>\n",
       "      <td>9</td>\n",
       "      <td>8</td>\n",
       "      <td>4</td>\n",
       "      <td>226.420</td>\n",
       "      <td>$137,375.00</td>\n",
       "    </tr>\n",
       "    <tr>\n",
       "      <th>9</th>\n",
       "      <td>2010</td>\n",
       "      <td>12</td>\n",
       "      <td>10</td>\n",
       "      <td>9</td>\n",
       "      <td>4</td>\n",
       "      <td>0</td>\n",
       "      <td>218.820</td>\n",
       "      <td>$62,950.00</td>\n",
       "    </tr>\n",
       "    <tr>\n",
       "      <th>10</th>\n",
       "      <td>2009</td>\n",
       "      <td>16</td>\n",
       "      <td>15</td>\n",
       "      <td>10</td>\n",
       "      <td>3</td>\n",
       "      <td>0</td>\n",
       "      <td>217.940</td>\n",
       "      <td>$80,090.00</td>\n",
       "    </tr>\n",
       "    <tr>\n",
       "      <th>11</th>\n",
       "      <td>2008</td>\n",
       "      <td>9</td>\n",
       "      <td>8</td>\n",
       "      <td>6</td>\n",
       "      <td>1</td>\n",
       "      <td>1</td>\n",
       "      <td>219.200</td>\n",
       "      <td>$44,380.00</td>\n",
       "    </tr>\n",
       "  </tbody>\n",
       "</table>\n",
       "</div>"
      ],
      "text/plain": [
       "   Years Events Cashes Match Play CRA Titles      AVG     Earnings\n",
       "0   2020      9      9          7   5      2  226.790  $232,300.00\n",
       "1   2019     19     17         15  12      4  225.620  $285,290.00\n",
       "2   2018     14     10          6   3      2  221.380  $110,500.00\n",
       "3   2017     15     15         11   7      4  229.390  $238,912.00\n",
       "4   2016     24     15         11   6      0  224.750   $95,345.00\n",
       "5   2015     20     15         11  11      2  225.400  $178,542.00\n",
       "6   2014     18     17          6   4      3  226.710  $163,778.00\n",
       "7   2013     26     21         13  10      2  228.810  $186,464.59\n",
       "8   2011     13     12          9   8      4  226.420  $137,375.00\n",
       "9   2010     12     10          9   4      0  218.820   $62,950.00\n",
       "10  2009     16     15         10   3      0  217.940   $80,090.00\n",
       "11  2008      9      8          6   1      1  219.200   $44,380.00"
      ]
     },
     "execution_count": 9,
     "metadata": {},
     "output_type": "execute_result"
    }
   ],
   "source": [
    "df"
   ]
  },
  {
   "cell_type": "code",
   "execution_count": 10,
   "metadata": {},
   "outputs": [],
   "source": [
    "df.Years = df.Years.astype(int)\n",
    "df.Events = df.Events.astype(int)\n",
    "df.Cashes = df.Cashes.astype(int)\n",
    "#df.Match Play.astype(int)\n",
    "df.CRA = df.CRA.astype(int)\n",
    "df.Titles = df.Titles.astype(int)\n",
    "df.AVG = df.AVG.astype(float)\n",
    "#df.Earnings.astype(float)"
   ]
  },
  {
   "cell_type": "code",
   "execution_count": 11,
   "metadata": {},
   "outputs": [
    {
     "data": {
      "text/html": [
       "<div>\n",
       "<style scoped>\n",
       "    .dataframe tbody tr th:only-of-type {\n",
       "        vertical-align: middle;\n",
       "    }\n",
       "\n",
       "    .dataframe tbody tr th {\n",
       "        vertical-align: top;\n",
       "    }\n",
       "\n",
       "    .dataframe thead th {\n",
       "        text-align: right;\n",
       "    }\n",
       "</style>\n",
       "<table border=\"1\" class=\"dataframe\">\n",
       "  <thead>\n",
       "    <tr style=\"text-align: right;\">\n",
       "      <th></th>\n",
       "      <th>Years</th>\n",
       "      <th>Events</th>\n",
       "      <th>Cashes</th>\n",
       "      <th>Match Play</th>\n",
       "      <th>CRA</th>\n",
       "      <th>Titles</th>\n",
       "      <th>AVG</th>\n",
       "      <th>Earnings</th>\n",
       "    </tr>\n",
       "  </thead>\n",
       "  <tbody>\n",
       "    <tr>\n",
       "      <th>2</th>\n",
       "      <td>2018</td>\n",
       "      <td>14</td>\n",
       "      <td>10</td>\n",
       "      <td>6</td>\n",
       "      <td>3</td>\n",
       "      <td>2</td>\n",
       "      <td>221.38</td>\n",
       "      <td>$110,500.00</td>\n",
       "    </tr>\n",
       "    <tr>\n",
       "      <th>10</th>\n",
       "      <td>2009</td>\n",
       "      <td>16</td>\n",
       "      <td>15</td>\n",
       "      <td>10</td>\n",
       "      <td>3</td>\n",
       "      <td>0</td>\n",
       "      <td>217.94</td>\n",
       "      <td>$80,090.00</td>\n",
       "    </tr>\n",
       "  </tbody>\n",
       "</table>\n",
       "</div>"
      ],
      "text/plain": [
       "    Years  Events  Cashes Match Play  CRA  Titles     AVG     Earnings\n",
       "2    2018      14      10          6    3       2  221.38  $110,500.00\n",
       "10   2009      16      15         10    3       0  217.94   $80,090.00"
      ]
     },
     "execution_count": 11,
     "metadata": {},
     "output_type": "execute_result"
    }
   ],
   "source": [
    "df[df.CRA == 3]"
   ]
  },
  {
   "cell_type": "code",
   "execution_count": 12,
   "metadata": {},
   "outputs": [
    {
     "data": {
      "text/html": [
       "<div>\n",
       "<style scoped>\n",
       "    .dataframe tbody tr th:only-of-type {\n",
       "        vertical-align: middle;\n",
       "    }\n",
       "\n",
       "    .dataframe tbody tr th {\n",
       "        vertical-align: top;\n",
       "    }\n",
       "\n",
       "    .dataframe thead th {\n",
       "        text-align: right;\n",
       "    }\n",
       "</style>\n",
       "<table border=\"1\" class=\"dataframe\">\n",
       "  <thead>\n",
       "    <tr style=\"text-align: right;\">\n",
       "      <th></th>\n",
       "      <th>Years</th>\n",
       "      <th>Events</th>\n",
       "      <th>Cashes</th>\n",
       "      <th>Match Play</th>\n",
       "      <th>CRA</th>\n",
       "      <th>Titles</th>\n",
       "      <th>AVG</th>\n",
       "      <th>Earnings</th>\n",
       "    </tr>\n",
       "  </thead>\n",
       "  <tbody>\n",
       "    <tr>\n",
       "      <th>3</th>\n",
       "      <td>2017</td>\n",
       "      <td>15</td>\n",
       "      <td>15</td>\n",
       "      <td>11</td>\n",
       "      <td>7</td>\n",
       "      <td>4</td>\n",
       "      <td>229.39</td>\n",
       "      <td>$238,912.00</td>\n",
       "    </tr>\n",
       "    <tr>\n",
       "      <th>4</th>\n",
       "      <td>2016</td>\n",
       "      <td>24</td>\n",
       "      <td>15</td>\n",
       "      <td>11</td>\n",
       "      <td>6</td>\n",
       "      <td>0</td>\n",
       "      <td>224.75</td>\n",
       "      <td>$95,345.00</td>\n",
       "    </tr>\n",
       "    <tr>\n",
       "      <th>5</th>\n",
       "      <td>2015</td>\n",
       "      <td>20</td>\n",
       "      <td>15</td>\n",
       "      <td>11</td>\n",
       "      <td>11</td>\n",
       "      <td>2</td>\n",
       "      <td>225.40</td>\n",
       "      <td>$178,542.00</td>\n",
       "    </tr>\n",
       "    <tr>\n",
       "      <th>10</th>\n",
       "      <td>2009</td>\n",
       "      <td>16</td>\n",
       "      <td>15</td>\n",
       "      <td>10</td>\n",
       "      <td>3</td>\n",
       "      <td>0</td>\n",
       "      <td>217.94</td>\n",
       "      <td>$80,090.00</td>\n",
       "    </tr>\n",
       "  </tbody>\n",
       "</table>\n",
       "</div>"
      ],
      "text/plain": [
       "    Years  Events  Cashes Match Play  CRA  Titles     AVG     Earnings\n",
       "3    2017      15      15         11    7       4  229.39  $238,912.00\n",
       "4    2016      24      15         11    6       0  224.75   $95,345.00\n",
       "5    2015      20      15         11   11       2  225.40  $178,542.00\n",
       "10   2009      16      15         10    3       0  217.94   $80,090.00"
      ]
     },
     "execution_count": 12,
     "metadata": {},
     "output_type": "execute_result"
    }
   ],
   "source": [
    "df[df.Cashes == 15]"
   ]
  },
  {
   "cell_type": "code",
   "execution_count": 13,
   "metadata": {},
   "outputs": [
    {
     "name": "stdout",
     "output_type": "stream",
     "text": [
      "<class 'pandas.core.frame.DataFrame'>\n",
      "RangeIndex: 12 entries, 0 to 11\n",
      "Data columns (total 8 columns):\n",
      " #   Column      Non-Null Count  Dtype  \n",
      "---  ------      --------------  -----  \n",
      " 0   Years       12 non-null     int64  \n",
      " 1   Events      12 non-null     int64  \n",
      " 2   Cashes      12 non-null     int64  \n",
      " 3   Match Play  12 non-null     object \n",
      " 4   CRA         12 non-null     int64  \n",
      " 5   Titles      12 non-null     int64  \n",
      " 6   AVG         12 non-null     float64\n",
      " 7   Earnings    12 non-null     object \n",
      "dtypes: float64(1), int64(5), object(2)\n",
      "memory usage: 896.0+ bytes\n"
     ]
    }
   ],
   "source": [
    "df.info()"
   ]
  },
  {
   "cell_type": "code",
   "execution_count": 14,
   "metadata": {},
   "outputs": [],
   "source": [
    "for row in df[df.Cashes.isin([15,17])].itertuples():\n",
    "    #print(row[1:])\n",
    "    pass"
   ]
  },
  {
   "cell_type": "code",
   "execution_count": 15,
   "metadata": {},
   "outputs": [
    {
     "data": {
      "text/plain": [
       "(10, 2009, 16, 15, '10', 3, 0, 217.94, '$80,090.00')"
      ]
     },
     "execution_count": 15,
     "metadata": {},
     "output_type": "execute_result"
    }
   ],
   "source": [
    "row[0:]"
   ]
  },
  {
   "cell_type": "code",
   "execution_count": 16,
   "metadata": {},
   "outputs": [
    {
     "data": {
      "text/plain": [
       "8"
      ]
     },
     "execution_count": 16,
     "metadata": {},
     "output_type": "execute_result"
    }
   ],
   "source": [
    "len(row[1:])"
   ]
  },
  {
   "cell_type": "code",
   "execution_count": 17,
   "metadata": {},
   "outputs": [],
   "source": [
    "db     = sqlite3.connect(\":memory:\")\n",
    "cursor = db.cursor()\n",
    "cursor.execute(\"\"\"\n",
    " CREATE TABLE JASONBELMONTE(YEARS, EVENTS, CASHES, MATCHPLAY, CRA, TITLES, AVG, EARNINGS)\n",
    "\"\"\")\n",
    "\n",
    "for row in df[df.Cashes.isin([15,17])].itertuples():\n",
    "    insert_sql_syntax = \"\"\"\n",
    "    INSERT INTO JASONBELMONTE(YEARS, EVENTS, CASHES, MATCHPLAY, CRA, TITLES, AVG, EARNINGS)\n",
    "    VALUES (?,?,?,?,?,?,?,?)\n",
    "    \"\"\"\n",
    "    cursor.execute(insert_sql_syntax, row[1:])\n",
    "    #print(row[1:])\n",
    "db.commit()\n",
    "\n",
    "#db.close()"
   ]
  },
  {
   "cell_type": "code",
   "execution_count": 18,
   "metadata": {},
   "outputs": [
    {
     "data": {
      "text/plain": [
       "<sqlite3.Cursor at 0x7fdd44436c70>"
      ]
     },
     "execution_count": 18,
     "metadata": {},
     "output_type": "execute_result"
    }
   ],
   "source": [
    "cursor.execute(\"\"\"\n",
    "    SELECT *\n",
    "    FROM JASONBELMONTE\n",
    "    WHERE CASHES == 15\n",
    "\"\"\")"
   ]
  },
  {
   "cell_type": "code",
   "execution_count": 19,
   "metadata": {},
   "outputs": [
    {
     "name": "stdout",
     "output_type": "stream",
     "text": [
      "(2017, 15, 15, '11', 7, 4, 229.39, '$238,912.00')\n",
      "(2016, 24, 15, '11', 6, 0, 224.75, '$95,345.00')\n",
      "(2015, 20, 15, '11', 11, 2, 225.4, '$178,542.00')\n",
      "(2009, 16, 15, '10', 3, 0, 217.94, '$80,090.00')\n"
     ]
    }
   ],
   "source": [
    "for row in cursor.execute(\"\"\"\n",
    "    SELECT *\n",
    "    FROM JASONBELMONTE\n",
    "    WHERE CASHES == 15\n",
    "\"\"\"):\n",
    "    print(row)"
   ]
  },
  {
   "cell_type": "code",
   "execution_count": null,
   "metadata": {},
   "outputs": [],
   "source": []
  }
 ],
 "metadata": {
  "kernelspec": {
   "display_name": "Python 3",
   "language": "python",
   "name": "python3"
  },
  "language_info": {
   "codemirror_mode": {
    "name": "ipython",
    "version": 3
   },
   "file_extension": ".py",
   "mimetype": "text/x-python",
   "name": "python",
   "nbconvert_exporter": "python",
   "pygments_lexer": "ipython3",
   "version": "3.8.5"
  }
 },
 "nbformat": 4,
 "nbformat_minor": 4
}
