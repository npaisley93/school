{
 "cells": [
  {
   "cell_type": "code",
   "execution_count": 1,
   "metadata": {},
   "outputs": [],
   "source": [
    "import pandas as pd\n",
    "import numpy as np"
   ]
  },
  {
   "cell_type": "code",
   "execution_count": 2,
   "metadata": {},
   "outputs": [],
   "source": [
    "df = pd.read_csv(\"https://github.com/owid/covid-19-data/raw/master/public/data/owid-covid-data.csv\")"
   ]
  },
  {
   "cell_type": "code",
   "execution_count": 3,
   "metadata": {},
   "outputs": [
    {
     "name": "stdout",
     "output_type": "stream",
     "text": [
      "<class 'pandas.core.frame.DataFrame'>\n",
      "RangeIndex: 57826 entries, 0 to 57825\n",
      "Data columns (total 50 columns):\n",
      " #   Column                              Non-Null Count  Dtype  \n",
      "---  ------                              --------------  -----  \n",
      " 0   iso_code                            57501 non-null  object \n",
      " 1   continent                           57176 non-null  object \n",
      " 2   location                            57826 non-null  object \n",
      " 3   date                                57826 non-null  object \n",
      " 4   total_cases                         54188 non-null  float64\n",
      " 5   new_cases                           56898 non-null  float64\n",
      " 6   new_cases_smoothed                  56084 non-null  float64\n",
      " 7   total_deaths                        44761 non-null  float64\n",
      " 8   new_deaths                          56898 non-null  float64\n",
      " 9   new_deaths_smoothed                 56084 non-null  float64\n",
      " 10  total_cases_per_million             53899 non-null  float64\n",
      " 11  new_cases_per_million               56834 non-null  float64\n",
      " 12  new_cases_smoothed_per_million      56019 non-null  float64\n",
      " 13  total_deaths_per_million            44487 non-null  float64\n",
      " 14  new_deaths_per_million              56834 non-null  float64\n",
      " 15  new_deaths_smoothed_per_million     56019 non-null  float64\n",
      " 16  reproduction_rate                   37696 non-null  float64\n",
      " 17  icu_patients                        4624 non-null   float64\n",
      " 18  icu_patients_per_million            4624 non-null   float64\n",
      " 19  hosp_patients                       5196 non-null   float64\n",
      " 20  hosp_patients_per_million           5196 non-null   float64\n",
      " 21  weekly_icu_admissions               396 non-null    float64\n",
      " 22  weekly_icu_admissions_per_million   396 non-null    float64\n",
      " 23  weekly_hosp_admissions              696 non-null    float64\n",
      " 24  weekly_hosp_admissions_per_million  696 non-null    float64\n",
      " 25  total_tests                         22255 non-null  float64\n",
      " 26  new_tests                           22027 non-null  float64\n",
      " 27  total_tests_per_thousand            22255 non-null  float64\n",
      " 28  new_tests_per_thousand              22027 non-null  float64\n",
      " 29  new_tests_smoothed                  24894 non-null  float64\n",
      " 30  new_tests_smoothed_per_thousand     24894 non-null  float64\n",
      " 31  tests_per_case                      23015 non-null  float64\n",
      " 32  positive_rate                       23424 non-null  float64\n",
      " 33  tests_units                         25858 non-null  object \n",
      " 34  stringency_index                    48027 non-null  float64\n",
      " 35  population                          57501 non-null  float64\n",
      " 36  population_density                  54777 non-null  float64\n",
      " 37  median_age                          51412 non-null  float64\n",
      " 38  aged_65_older                       50637 non-null  float64\n",
      " 39  aged_70_older                       51144 non-null  float64\n",
      " 40  gdp_per_capita                      50741 non-null  float64\n",
      " 41  extreme_poverty                     33816 non-null  float64\n",
      " 42  cardiovasc_death_rate               51393 non-null  float64\n",
      " 43  diabetes_prevalence                 53275 non-null  float64\n",
      " 44  female_smokers                      39955 non-null  float64\n",
      " 45  male_smokers                        39445 non-null  float64\n",
      " 46  handwashing_facilities              24366 non-null  float64\n",
      " 47  hospital_beds_per_thousand          46272 non-null  float64\n",
      " 48  life_expectancy                     56760 non-null  float64\n",
      " 49  human_development_index             49613 non-null  float64\n",
      "dtypes: float64(45), object(5)\n",
      "memory usage: 22.1+ MB\n"
     ]
    }
   ],
   "source": [
    "df.info()"
   ]
  },
  {
   "cell_type": "code",
   "execution_count": 4,
   "metadata": {},
   "outputs": [
    {
     "data": {
      "text/html": [
       "<div>\n",
       "<style scoped>\n",
       "    .dataframe tbody tr th:only-of-type {\n",
       "        vertical-align: middle;\n",
       "    }\n",
       "\n",
       "    .dataframe tbody tr th {\n",
       "        vertical-align: top;\n",
       "    }\n",
       "\n",
       "    .dataframe thead th {\n",
       "        text-align: right;\n",
       "    }\n",
       "</style>\n",
       "<table border=\"1\" class=\"dataframe\">\n",
       "  <thead>\n",
       "    <tr style=\"text-align: right;\">\n",
       "      <th></th>\n",
       "      <th>iso_code</th>\n",
       "      <th>continent</th>\n",
       "      <th>location</th>\n",
       "      <th>date</th>\n",
       "      <th>total_cases</th>\n",
       "      <th>new_cases</th>\n",
       "      <th>new_cases_smoothed</th>\n",
       "      <th>total_deaths</th>\n",
       "      <th>new_deaths</th>\n",
       "      <th>new_deaths_smoothed</th>\n",
       "      <th>...</th>\n",
       "      <th>gdp_per_capita</th>\n",
       "      <th>extreme_poverty</th>\n",
       "      <th>cardiovasc_death_rate</th>\n",
       "      <th>diabetes_prevalence</th>\n",
       "      <th>female_smokers</th>\n",
       "      <th>male_smokers</th>\n",
       "      <th>handwashing_facilities</th>\n",
       "      <th>hospital_beds_per_thousand</th>\n",
       "      <th>life_expectancy</th>\n",
       "      <th>human_development_index</th>\n",
       "    </tr>\n",
       "  </thead>\n",
       "  <tbody>\n",
       "    <tr>\n",
       "      <th>0</th>\n",
       "      <td>AFG</td>\n",
       "      <td>Asia</td>\n",
       "      <td>Afghanistan</td>\n",
       "      <td>2019-12-31</td>\n",
       "      <td>NaN</td>\n",
       "      <td>0.0</td>\n",
       "      <td>NaN</td>\n",
       "      <td>NaN</td>\n",
       "      <td>0.0</td>\n",
       "      <td>NaN</td>\n",
       "      <td>...</td>\n",
       "      <td>1803.987</td>\n",
       "      <td>NaN</td>\n",
       "      <td>597.029</td>\n",
       "      <td>9.59</td>\n",
       "      <td>NaN</td>\n",
       "      <td>NaN</td>\n",
       "      <td>37.746</td>\n",
       "      <td>0.5</td>\n",
       "      <td>64.83</td>\n",
       "      <td>0.498</td>\n",
       "    </tr>\n",
       "    <tr>\n",
       "      <th>1</th>\n",
       "      <td>AFG</td>\n",
       "      <td>Asia</td>\n",
       "      <td>Afghanistan</td>\n",
       "      <td>2020-01-01</td>\n",
       "      <td>NaN</td>\n",
       "      <td>0.0</td>\n",
       "      <td>NaN</td>\n",
       "      <td>NaN</td>\n",
       "      <td>0.0</td>\n",
       "      <td>NaN</td>\n",
       "      <td>...</td>\n",
       "      <td>1803.987</td>\n",
       "      <td>NaN</td>\n",
       "      <td>597.029</td>\n",
       "      <td>9.59</td>\n",
       "      <td>NaN</td>\n",
       "      <td>NaN</td>\n",
       "      <td>37.746</td>\n",
       "      <td>0.5</td>\n",
       "      <td>64.83</td>\n",
       "      <td>0.498</td>\n",
       "    </tr>\n",
       "    <tr>\n",
       "      <th>2</th>\n",
       "      <td>AFG</td>\n",
       "      <td>Asia</td>\n",
       "      <td>Afghanistan</td>\n",
       "      <td>2020-01-02</td>\n",
       "      <td>NaN</td>\n",
       "      <td>0.0</td>\n",
       "      <td>NaN</td>\n",
       "      <td>NaN</td>\n",
       "      <td>0.0</td>\n",
       "      <td>NaN</td>\n",
       "      <td>...</td>\n",
       "      <td>1803.987</td>\n",
       "      <td>NaN</td>\n",
       "      <td>597.029</td>\n",
       "      <td>9.59</td>\n",
       "      <td>NaN</td>\n",
       "      <td>NaN</td>\n",
       "      <td>37.746</td>\n",
       "      <td>0.5</td>\n",
       "      <td>64.83</td>\n",
       "      <td>0.498</td>\n",
       "    </tr>\n",
       "    <tr>\n",
       "      <th>3</th>\n",
       "      <td>AFG</td>\n",
       "      <td>Asia</td>\n",
       "      <td>Afghanistan</td>\n",
       "      <td>2020-01-03</td>\n",
       "      <td>NaN</td>\n",
       "      <td>0.0</td>\n",
       "      <td>NaN</td>\n",
       "      <td>NaN</td>\n",
       "      <td>0.0</td>\n",
       "      <td>NaN</td>\n",
       "      <td>...</td>\n",
       "      <td>1803.987</td>\n",
       "      <td>NaN</td>\n",
       "      <td>597.029</td>\n",
       "      <td>9.59</td>\n",
       "      <td>NaN</td>\n",
       "      <td>NaN</td>\n",
       "      <td>37.746</td>\n",
       "      <td>0.5</td>\n",
       "      <td>64.83</td>\n",
       "      <td>0.498</td>\n",
       "    </tr>\n",
       "    <tr>\n",
       "      <th>4</th>\n",
       "      <td>AFG</td>\n",
       "      <td>Asia</td>\n",
       "      <td>Afghanistan</td>\n",
       "      <td>2020-01-04</td>\n",
       "      <td>NaN</td>\n",
       "      <td>0.0</td>\n",
       "      <td>NaN</td>\n",
       "      <td>NaN</td>\n",
       "      <td>0.0</td>\n",
       "      <td>NaN</td>\n",
       "      <td>...</td>\n",
       "      <td>1803.987</td>\n",
       "      <td>NaN</td>\n",
       "      <td>597.029</td>\n",
       "      <td>9.59</td>\n",
       "      <td>NaN</td>\n",
       "      <td>NaN</td>\n",
       "      <td>37.746</td>\n",
       "      <td>0.5</td>\n",
       "      <td>64.83</td>\n",
       "      <td>0.498</td>\n",
       "    </tr>\n",
       "  </tbody>\n",
       "</table>\n",
       "<p>5 rows × 50 columns</p>\n",
       "</div>"
      ],
      "text/plain": [
       "  iso_code continent     location        date  total_cases  new_cases  \\\n",
       "0      AFG      Asia  Afghanistan  2019-12-31          NaN        0.0   \n",
       "1      AFG      Asia  Afghanistan  2020-01-01          NaN        0.0   \n",
       "2      AFG      Asia  Afghanistan  2020-01-02          NaN        0.0   \n",
       "3      AFG      Asia  Afghanistan  2020-01-03          NaN        0.0   \n",
       "4      AFG      Asia  Afghanistan  2020-01-04          NaN        0.0   \n",
       "\n",
       "   new_cases_smoothed  total_deaths  new_deaths  new_deaths_smoothed  ...  \\\n",
       "0                 NaN           NaN         0.0                  NaN  ...   \n",
       "1                 NaN           NaN         0.0                  NaN  ...   \n",
       "2                 NaN           NaN         0.0                  NaN  ...   \n",
       "3                 NaN           NaN         0.0                  NaN  ...   \n",
       "4                 NaN           NaN         0.0                  NaN  ...   \n",
       "\n",
       "   gdp_per_capita  extreme_poverty  cardiovasc_death_rate  \\\n",
       "0        1803.987              NaN                597.029   \n",
       "1        1803.987              NaN                597.029   \n",
       "2        1803.987              NaN                597.029   \n",
       "3        1803.987              NaN                597.029   \n",
       "4        1803.987              NaN                597.029   \n",
       "\n",
       "   diabetes_prevalence  female_smokers  male_smokers  handwashing_facilities  \\\n",
       "0                 9.59             NaN           NaN                  37.746   \n",
       "1                 9.59             NaN           NaN                  37.746   \n",
       "2                 9.59             NaN           NaN                  37.746   \n",
       "3                 9.59             NaN           NaN                  37.746   \n",
       "4                 9.59             NaN           NaN                  37.746   \n",
       "\n",
       "   hospital_beds_per_thousand  life_expectancy  human_development_index  \n",
       "0                         0.5            64.83                    0.498  \n",
       "1                         0.5            64.83                    0.498  \n",
       "2                         0.5            64.83                    0.498  \n",
       "3                         0.5            64.83                    0.498  \n",
       "4                         0.5            64.83                    0.498  \n",
       "\n",
       "[5 rows x 50 columns]"
      ]
     },
     "execution_count": 4,
     "metadata": {},
     "output_type": "execute_result"
    }
   ],
   "source": [
    "df.head()"
   ]
  },
  {
   "cell_type": "code",
   "execution_count": 5,
   "metadata": {},
   "outputs": [],
   "source": [
    "import matplotlib.pylab as plt"
   ]
  },
  {
   "cell_type": "code",
   "execution_count": 6,
   "metadata": {},
   "outputs": [
    {
     "data": {
      "text/plain": [
       "array([   nan,  7.1  ,  0.7  , 29.   , 16.2  ,  1.5  , 13.   , 28.4  ,\n",
       "        0.3  ,  3.1  ,  5.8  ,  1.   ,  1.9  , 10.5  , 25.1  ,  0.6  ,\n",
       "       30.2  ,  5.7  , 10.1  ,  2.   , 30.1  ,  1.6  , 12.   ,  2.1  ,\n",
       "       34.2  ,  4.7  ,  4.4  ,  1.7  ,  6.4  , 34.3  , 17.1  , 19.6  ,\n",
       "       30.5  , 19.3  ,  8.5  ,  0.2  ,  2.5  , 24.5  ,  0.4  , 10.2  ,\n",
       "       18.3  ,  5.3  , 28.2  , 35.3  ,  2.9  , 26.8  , 14.3  ,  2.8  ,\n",
       "        0.8  , 23.   , 15.4  , 19.8  , 11.2  ,  7.   ,  1.2  ,  2.7  ,\n",
       "        3.6  ,  7.3  , 25.6  , 26.9  , 21.3  , 20.9  ,  3.2  ,  6.9  ,\n",
       "        5.9  ,  5.5  , 44.   ,  5.1  ,  6.3  ,  9.7  ,  9.5  , 24.4  ,\n",
       "       14.8  ,  0.1  ,  0.5  ,  2.4  , 23.5  ,  5.   ,  4.8  ,  7.8  ,\n",
       "       23.3  , 16.3  , 22.9  , 23.4  ,  1.8  , 37.7  ,  8.8  ,  5.2  ,\n",
       "       23.1  , 20.1  ,  8.1  ,  6.2  , 27.4  ,  7.4  , 18.8  , 22.6  ,\n",
       "        3.3  ,  0.9  ,  1.1  , 14.1  ,  3.4  , 13.5  , 20.   , 19.1  ,\n",
       "       14.   ,  1.3  ,  7.6  ,  6.434])"
      ]
     },
     "execution_count": 6,
     "metadata": {},
     "output_type": "execute_result"
    }
   ],
   "source": [
    "#I wanted to see what the *_smokers table looked like.\n",
    "df.female_smokers.unique()"
   ]
  },
  {
   "cell_type": "code",
   "execution_count": 7,
   "metadata": {},
   "outputs": [],
   "source": [
    "#This was a test to see if it would print multiple one after another...it would not.\n",
    "df[df.location == \"United States\"][[\"female_smokers\" , \"male_smokers\"]].value_counts();\n",
    "#df[df.location == \"Chile\"][[\"female_smokers\" , \"male_smokers\"]].value_counts();"
   ]
  },
  {
   "cell_type": "code",
   "execution_count": 8,
   "metadata": {},
   "outputs": [
    {
     "data": {
      "text/plain": [
       "female_smokers  male_smokers\n",
       "34.3            39.9            325\n",
       "dtype: int64"
      ]
     },
     "execution_count": 8,
     "metadata": {},
     "output_type": "execute_result"
    }
   ],
   "source": [
    "df[df.location == \"Croatia\"][[\"female_smokers\" , \"male_smokers\"]].value_counts()"
   ]
  },
  {
   "cell_type": "code",
   "execution_count": 9,
   "metadata": {},
   "outputs": [],
   "source": [
    "#i tried this command to see if I could get each countries to no avail.\n",
    "#df[df.location.unique()][[\"female_smokers\" , \"male_smokers\"]].value_counts();"
   ]
  },
  {
   "cell_type": "code",
   "execution_count": 10,
   "metadata": {},
   "outputs": [
    {
     "data": {
      "text/plain": [
       "'\\nI looked up data from https://worldpopulationreview.com/country-rankings/smoking-rates-by-country whos data is provided by https://www.who.int/gho/tobacco/use/en/.\\nTo find the countries that smoke the most and see if they have a higer number of covid smokers. \\nCountry Total Smoking Rate Male Smoking Rate Female Smoking Rate\\nKiribati\\t52.40%\\t63.90%\\t40.90% (not in location.unique)\\nNauru\\t47.50%\\t43.00%\\t52.00% (not in location.unique)\\nGreece\\t42.65%\\t52.60%\\t32.70%\\nSerbia\\t41.65%\\t43.60%\\t39.70%\\nRussia\\t40.90%\\t59.00%\\t22.80%\\nJordan\\t40.45%\\t70.20%\\t10.70%\\nIndonesia\\t39.90%\\t76.20%\\t3.60%\\nBosnia And Herzegovina\\t38.60%\\t47.20%\\t30.00%\\nLebanon\\t38.20%\\t45.40%\\t31.00%\\nChile\\t38.00%\\t40.00%\\t36.00%\\nLatvia\\t36.60%\\t48.90%\\t24.30%\\nCroatia\\t36.45%\\t39.40%\\t33.50%\\n\\nThis is to get a ratio of smoking population to covid case smokers.\\n'"
      ]
     },
     "execution_count": 10,
     "metadata": {},
     "output_type": "execute_result"
    }
   ],
   "source": [
    "\"\"\"\n",
    "I looked up data from https://worldpopulationreview.com/country-rankings/smoking-rates-by-country whos data is provided by https://www.who.int/gho/tobacco/use/en/.\n",
    "To find the countries that smoke the most and see if they have a higer number of covid smokers. \n",
    "Country Total Smoking Rate Male Smoking Rate Female Smoking Rate\n",
    "Kiribati\t52.40%\t63.90%\t40.90% (not in location.unique)\n",
    "Nauru\t47.50%\t43.00%\t52.00% (not in location.unique)\n",
    "Greece\t42.65%\t52.60%\t32.70%\n",
    "Serbia\t41.65%\t43.60%\t39.70%\n",
    "Russia\t40.90%\t59.00%\t22.80%\n",
    "Jordan\t40.45%\t70.20%\t10.70%\n",
    "Indonesia\t39.90%\t76.20%\t3.60%\n",
    "Bosnia And Herzegovina\t38.60%\t47.20%\t30.00%\n",
    "Lebanon\t38.20%\t45.40%\t31.00%\n",
    "Chile\t38.00%\t40.00%\t36.00%\n",
    "Latvia\t36.60%\t48.90%\t24.30%\n",
    "Croatia\t36.45%\t39.40%\t33.50%\n",
    "\n",
    "This is to get a ratio of smoking population to covid case smokers.\n",
    "\"\"\""
   ]
  },
  {
   "cell_type": "code",
   "execution_count": 11,
   "metadata": {},
   "outputs": [
    {
     "data": {
      "text/plain": [
       "female_smokers  male_smokers\n",
       "35.3            52.0            325\n",
       "dtype: int64"
      ]
     },
     "execution_count": 11,
     "metadata": {},
     "output_type": "execute_result"
    }
   ],
   "source": [
    "#This will give me the percentage of smokers for the selected country\n",
    "df[df.location == \"Greece\"][[\"female_smokers\" , \"male_smokers\"]].value_counts()"
   ]
  },
  {
   "cell_type": "code",
   "execution_count": 12,
   "metadata": {},
   "outputs": [
    {
     "data": {
      "text/plain": [
       "82034.0"
      ]
     },
     "execution_count": 12,
     "metadata": {},
     "output_type": "execute_result"
    }
   ],
   "source": [
    "#This will give me the max cases for the selected country\n",
    "df[df.location == \"Greece\"].total_cases.max()"
   ]
  },
  {
   "cell_type": "code",
   "execution_count": 13,
   "metadata": {},
   "outputs": [
    {
     "data": {
      "text/plain": [
       "female_smokers  male_smokers\n",
       "37.7            40.2            268\n",
       "dtype: int64"
      ]
     },
     "execution_count": 13,
     "metadata": {},
     "output_type": "execute_result"
    }
   ],
   "source": [
    "df[df.location == \"Serbia\"][[\"female_smokers\" , \"male_smokers\"]].value_counts()"
   ]
  },
  {
   "cell_type": "code",
   "execution_count": 14,
   "metadata": {},
   "outputs": [
    {
     "data": {
      "text/plain": [
       "97988.0"
      ]
     },
     "execution_count": 14,
     "metadata": {},
     "output_type": "execute_result"
    }
   ],
   "source": [
    "df[df.location == \"Serbia\"].total_cases.max()"
   ]
  },
  {
   "cell_type": "code",
   "execution_count": 15,
   "metadata": {},
   "outputs": [
    {
     "data": {
      "text/plain": [
       "female_smokers  male_smokers\n",
       "23.4            58.3            325\n",
       "dtype: int64"
      ]
     },
     "execution_count": 15,
     "metadata": {},
     "output_type": "execute_result"
    }
   ],
   "source": [
    "df[df.location == \"Russia\"][[\"female_smokers\" , \"male_smokers\"]].value_counts()"
   ]
  },
  {
   "cell_type": "code",
   "execution_count": 16,
   "metadata": {},
   "outputs": [
    {
     "data": {
      "text/plain": [
       "2015608.0"
      ]
     },
     "execution_count": 16,
     "metadata": {},
     "output_type": "execute_result"
    }
   ],
   "source": [
    "df[df.location == \"Russia\"].total_cases.max()"
   ]
  },
  {
   "cell_type": "code",
   "execution_count": 17,
   "metadata": {},
   "outputs": [
    {
     "data": {
      "text/plain": [
       "Series([], dtype: int64)"
      ]
     },
     "execution_count": 17,
     "metadata": {},
     "output_type": "execute_result"
    }
   ],
   "source": [
    "df[df.location == \"Jordan\"][[\"female_smokers\" , \"male_smokers\"]].value_counts()"
   ]
  },
  {
   "cell_type": "code",
   "execution_count": 18,
   "metadata": {},
   "outputs": [
    {
     "data": {
      "text/plain": [
       "163926.0"
      ]
     },
     "execution_count": 18,
     "metadata": {},
     "output_type": "execute_result"
    }
   ],
   "source": [
    "df[df.location == \"Jordan\"].total_cases.max()"
   ]
  },
  {
   "cell_type": "code",
   "execution_count": 19,
   "metadata": {},
   "outputs": [
    {
     "data": {
      "text/plain": [
       "female_smokers  male_smokers\n",
       "2.8             76.1            325\n",
       "dtype: int64"
      ]
     },
     "execution_count": 19,
     "metadata": {},
     "output_type": "execute_result"
    }
   ],
   "source": [
    "df[df.location == \"Indonesia\"][[\"female_smokers\" , \"male_smokers\"]].value_counts()"
   ]
  },
  {
   "cell_type": "code",
   "execution_count": 20,
   "metadata": {},
   "outputs": [
    {
     "data": {
      "text/plain": [
       "478720.0"
      ]
     },
     "execution_count": 20,
     "metadata": {},
     "output_type": "execute_result"
    }
   ],
   "source": [
    "df[df.location == \"Indonesia\"].total_cases.max()"
   ]
  },
  {
   "cell_type": "code",
   "execution_count": 21,
   "metadata": {},
   "outputs": [
    {
     "data": {
      "text/plain": [
       "female_smokers  male_smokers\n",
       "30.2            47.7            254\n",
       "dtype: int64"
      ]
     },
     "execution_count": 21,
     "metadata": {},
     "output_type": "execute_result"
    }
   ],
   "source": [
    "df[df.location == \"Bosnia and Herzegovina\"][[\"female_smokers\" , \"male_smokers\"]].value_counts()"
   ]
  },
  {
   "cell_type": "code",
   "execution_count": 22,
   "metadata": {},
   "outputs": [
    {
     "data": {
      "text/plain": [
       "75577.0"
      ]
     },
     "execution_count": 22,
     "metadata": {},
     "output_type": "execute_result"
    }
   ],
   "source": [
    "df[df.location == \"Bosnia and Herzegovina\"].total_cases.max()"
   ]
  },
  {
   "cell_type": "code",
   "execution_count": 23,
   "metadata": {},
   "outputs": [
    {
     "data": {
      "text/plain": [
       "female_smokers  male_smokers\n",
       "26.9            40.7            325\n",
       "dtype: int64"
      ]
     },
     "execution_count": 23,
     "metadata": {},
     "output_type": "execute_result"
    }
   ],
   "source": [
    "df[df.location == \"Lebanon\"][[\"female_smokers\" , \"male_smokers\"]].value_counts()"
   ]
  },
  {
   "cell_type": "code",
   "execution_count": 24,
   "metadata": {},
   "outputs": [
    {
     "data": {
      "text/plain": [
       "110037.0"
      ]
     },
     "execution_count": 24,
     "metadata": {},
     "output_type": "execute_result"
    }
   ],
   "source": [
    "df[df.location == \"Lebanon\"].total_cases.max()"
   ]
  },
  {
   "cell_type": "code",
   "execution_count": 25,
   "metadata": {},
   "outputs": [
    {
     "data": {
      "text/plain": [
       "female_smokers  male_smokers\n",
       "34.2            41.5            260\n",
       "dtype: int64"
      ]
     },
     "execution_count": 25,
     "metadata": {},
     "output_type": "execute_result"
    }
   ],
   "source": [
    "df[df.location == \"Chile\"][[\"female_smokers\" , \"male_smokers\"]].value_counts()"
   ]
  },
  {
   "cell_type": "code",
   "execution_count": 26,
   "metadata": {},
   "outputs": [
    {
     "data": {
      "text/plain": [
       "534558.0"
      ]
     },
     "execution_count": 26,
     "metadata": {},
     "output_type": "execute_result"
    }
   ],
   "source": [
    "df[df.location == \"Chile\"].total_cases.max()"
   ]
  },
  {
   "cell_type": "code",
   "execution_count": 27,
   "metadata": {},
   "outputs": [
    {
     "data": {
      "text/plain": [
       "female_smokers  male_smokers\n",
       "25.6            51.0            269\n",
       "dtype: int64"
      ]
     },
     "execution_count": 27,
     "metadata": {},
     "output_type": "execute_result"
    }
   ],
   "source": [
    "df[df.location == \"Latvia\"][[\"female_smokers\" , \"male_smokers\"]].value_counts()"
   ]
  },
  {
   "cell_type": "code",
   "execution_count": 28,
   "metadata": {},
   "outputs": [
    {
     "data": {
      "text/plain": [
       "11356.0"
      ]
     },
     "execution_count": 28,
     "metadata": {},
     "output_type": "execute_result"
    }
   ],
   "source": [
    "df[df.location == \"Latvia\"].total_cases.max()"
   ]
  },
  {
   "cell_type": "code",
   "execution_count": 29,
   "metadata": {},
   "outputs": [
    {
     "data": {
      "text/plain": [
       "female_smokers  male_smokers\n",
       "34.3            39.9            325\n",
       "dtype: int64"
      ]
     },
     "execution_count": 29,
     "metadata": {},
     "output_type": "execute_result"
    }
   ],
   "source": [
    "df[df.location == \"Croatia\"][[\"female_smokers\" , \"male_smokers\"]].value_counts()"
   ]
  },
  {
   "cell_type": "code",
   "execution_count": 30,
   "metadata": {},
   "outputs": [
    {
     "data": {
      "text/plain": [
       "90715.0"
      ]
     },
     "execution_count": 30,
     "metadata": {},
     "output_type": "execute_result"
    }
   ],
   "source": [
    "df[df.location == \"Croatia\"].total_cases.max()"
   ]
  },
  {
   "cell_type": "code",
   "execution_count": 31,
   "metadata": {},
   "outputs": [
    {
     "data": {
      "text/plain": [
       "(0.0, 100.0)"
      ]
     },
     "execution_count": 31,
     "metadata": {},
     "output_type": "execute_result"
    },
    {
     "data": {
      "image/png": "[encoded data removed]",
      "text/plain": [
       "<Figure size 432x288 with 1 Axes>"
      ]
     },
     "metadata": {
      "needs_background": "light"
     },
     "output_type": "display_data"
    }
   ],
   "source": [
    "#This is going to graph the percentage of <country>-Coronia virus smoker percentage (C) , TotalPop of smokers percentage, MalePop smokers percetage and FemalePop smokers percentage.\n",
    "ax = pd.DataFrame({\n",
    "    \"x\": [\"GreeceC-male\" , \"GreeceC-female\" , \"TPop\" , \"MPop\" , \"FPop\"],\n",
    "    \"y\": [52.0, 35.3, 42.65, 52.60, 32.70]\n",
    "}).plot.bar(x=\"x\" , y=\"y\", legend=False, color=['midnightblue', 'fuchsia', 'black', 'b', 'pink'])\n",
    "ax.set_ylim(0, 100)"
   ]
  },
  {
   "cell_type": "code",
   "execution_count": 32,
   "metadata": {},
   "outputs": [
    {
     "name": "stdout",
     "output_type": "stream",
     "text": [
      "GREECE\n",
      "MpopPredicted:\n",
      "14735.34\n",
      "FpopPredicted:\n",
      "9431.539999999999\n",
      "GreeceCmale:\n",
      "11991.2\n",
      "GreeceCfemale:\n",
      "8140.179999999999\n"
     ]
    }
   ],
   "source": [
    "#This will show the ratio of cases to smokers from a predicted standpoint to an actual.\n",
    "print(\"GREECE\")\n",
    "MpopPredicted = 23060 * .639\n",
    "print(\"MpopPredicted:\")\n",
    "print(MpopPredicted)\n",
    "FpopPredicted = 23060 * .409\n",
    "print(\"FpopPredicted:\")\n",
    "print(FpopPredicted)\n",
    "GreeceCmale = 23060 * .52\n",
    "print(\"GreeceCmale:\")\n",
    "print(GreeceCmale)\n",
    "GreeceCfemale = 23060 * .353\n",
    "print(\"GreeceCfemale:\")\n",
    "print(GreeceCfemale)"
   ]
  },
  {
   "cell_type": "code",
   "execution_count": 33,
   "metadata": {},
   "outputs": [
    {
     "data": {
      "text/plain": [
       "(0.0, 100.0)"
      ]
     },
     "execution_count": 33,
     "metadata": {},
     "output_type": "execute_result"
    },
    {
     "data": {
      "image/png": "[encoded data removed]",
      "text/plain": [
       "<Figure size 432x288 with 1 Axes>"
      ]
     },
     "metadata": {
      "needs_background": "light"
     },
     "output_type": "display_data"
    }
   ],
   "source": [
    "ax = pd.DataFrame({\n",
    "    \"x\": [\"SerbiaC-male\" , \"SerbiaC-female\" , \"TPop\" , \"MPop\" , \"FPop\"],\n",
    "    \"y\": [40.2, 37.7, 41.65, 43.6, 39.7]\n",
    "}).plot.bar(x=\"x\" , y=\"y\", legend=False, color=['midnightblue', 'fuchsia', 'black', 'b', 'pink'])\n",
    "ax.set_ylim(0, 100)"
   ]
  },
  {
   "cell_type": "code",
   "execution_count": 34,
   "metadata": {},
   "outputs": [
    {
     "name": "stdout",
     "output_type": "stream",
     "text": [
      "SERBIA\n",
      "MpopPredicted:\n",
      "15262.616\n",
      "FpopPredicted:\n",
      "13897.382000000001\n",
      "SerbiaCmale:\n",
      "14072.412\n",
      "SerbiaCfemale:\n",
      "13197.262\n"
     ]
    }
   ],
   "source": [
    "print(\"SERBIA\")\n",
    "MpopPredicted = 35006 * .436\n",
    "print(\"MpopPredicted:\")\n",
    "print(MpopPredicted)\n",
    "FpopPredicted = 35006 * .397\n",
    "print(\"FpopPredicted:\")\n",
    "print(FpopPredicted)\n",
    "SerbiaCmale = 35006 * .402\n",
    "print(\"SerbiaCmale:\")\n",
    "print(SerbiaCmale)\n",
    "SerbiaCfemale = 35006 * .377\n",
    "print(\"SerbiaCfemale:\")\n",
    "print(SerbiaCfemale)"
   ]
  },
  {
   "cell_type": "code",
   "execution_count": 35,
   "metadata": {},
   "outputs": [
    {
     "data": {
      "text/plain": [
       "(0.0, 100.0)"
      ]
     },
     "execution_count": 35,
     "metadata": {},
     "output_type": "execute_result"
    },
    {
     "data": {
      "image/png": "[encoded data removed]",
      "text/plain": [
       "<Figure size 432x288 with 1 Axes>"
      ]
     },
     "metadata": {
      "needs_background": "light"
     },
     "output_type": "display_data"
    }
   ],
   "source": [
    "ax = pd.DataFrame({\n",
    "    \"x\": [\"RussiaC-male\" , \"RussiaC-female\" , \"TPop\" , \"MPop\" , \"FPop\"],\n",
    "    \"y\": [58.3, 23.4, 40.9, 59.0, 22.8]\n",
    "}).plot.bar(x=\"x\" , y=\"y\", legend=False, color=['midnightblue', 'fuchsia', 'black', 'b', 'pink'])\n",
    "ax.set_ylim(0, 100)"
   ]
  },
  {
   "cell_type": "code",
   "execution_count": 36,
   "metadata": {},
   "outputs": [
    {
     "name": "stdout",
     "output_type": "stream",
     "text": [
      "RUSSIA\n",
      "MpopPredicted:\n",
      "782445.0199999999\n",
      "FpopPredicted:\n",
      "302368.58400000003\n",
      "RussiaCmale:\n",
      "773161.774\n",
      "RussiaCfemale:\n",
      "310325.652\n"
     ]
    }
   ],
   "source": [
    "print(\"RUSSIA\")\n",
    "MpopPredicted = 1326178 * .59\n",
    "print(\"MpopPredicted:\")\n",
    "print(MpopPredicted)\n",
    "FpopPredicted = 1326178* .228\n",
    "print(\"FpopPredicted:\")\n",
    "print(FpopPredicted)\n",
    "RussiaCmale = 1326178 * .583\n",
    "print(\"RussiaCmale:\")\n",
    "print(RussiaCmale)\n",
    "RussiaCfemale = 1326178 * .234\n",
    "print(\"RussiaCfemale:\")\n",
    "print(RussiaCfemale)"
   ]
  },
  {
   "cell_type": "code",
   "execution_count": 37,
   "metadata": {},
   "outputs": [
    {
     "data": {
      "text/plain": [
       "(0.0, 100.0)"
      ]
     },
     "execution_count": 37,
     "metadata": {},
     "output_type": "execute_result"
    },
    {
     "data": {
      "image/png": "[encoded data removed]",
      "text/plain": [
       "<Figure size 432x288 with 1 Axes>"
      ]
     },
     "metadata": {
      "needs_background": "light"
     },
     "output_type": "display_data"
    }
   ],
   "source": [
    "ax = pd.DataFrame({\n",
    "    \"x\": [\"JordanC-male\" , \"JordanC-female\" , \"TPop\" , \"MPop\" , \"FPop\"],\n",
    "    \"y\": [0, 0, 40.45, 70.2, 10.7]\n",
    "}).plot.bar(x=\"x\" , y=\"y\", legend=False, color=['midnightblue', 'fuchsia', 'black', 'b', 'pink'])\n",
    "ax.set_ylim(0, 100)"
   ]
  },
  {
   "cell_type": "code",
   "execution_count": 38,
   "metadata": {},
   "outputs": [
    {
     "name": "stdout",
     "output_type": "stream",
     "text": [
      "JORDAN\n",
      "MpopPredicted:\n",
      "19745.154\n",
      "FpopPredicted:\n",
      "3009.589\n",
      "JordanCmale:\n",
      "0\n",
      "JordanCfemale:\n",
      "0\n"
     ]
    }
   ],
   "source": [
    "print(\"JORDAN\")\n",
    "MpopPredicted = 28127 * .702\n",
    "print(\"MpopPredicted:\")\n",
    "print(MpopPredicted)\n",
    "FpopPredicted = 28127 * .107\n",
    "print(\"FpopPredicted:\")\n",
    "print(FpopPredicted)\n",
    "JordanCmale = 28127 * 0\n",
    "print(\"JordanCmale:\")\n",
    "print(JordanCmale)\n",
    "JordanCfemale = 28127 * 0\n",
    "print(\"JordanCfemale:\")\n",
    "print(JordanCfemale)"
   ]
  },
  {
   "cell_type": "code",
   "execution_count": 39,
   "metadata": {},
   "outputs": [
    {
     "data": {
      "text/plain": [
       "(0.0, 100.0)"
      ]
     },
     "execution_count": 39,
     "metadata": {},
     "output_type": "execute_result"
    },
    {
     "data": {
      "image/png": "[encoded data removed]",
      "text/plain": [
       "<Figure size 432x288 with 1 Axes>"
      ]
     },
     "metadata": {
      "needs_background": "light"
     },
     "output_type": "display_data"
    }
   ],
   "source": [
    "ax = pd.DataFrame({\n",
    "    \"x\": [\"IndonesiaC-male\" , \"IndonesiaC-female\" , \"TPop\" , \"MPop\" , \"FPop\"],\n",
    "    \"y\": [76.1, 2.8, 39.9, 76.1, 2.8]\n",
    "}).plot.bar(x=\"x\" , y=\"y\", legend=False, color=['midnightblue', 'fuchsia', 'black', 'b', 'pink'])\n",
    "ax.set_ylim(0, 100)"
   ]
  },
  {
   "cell_type": "code",
   "execution_count": 40,
   "metadata": {},
   "outputs": [
    {
     "name": "stdout",
     "output_type": "stream",
     "text": [
      "INDONESIA\n",
      "MpopPredicted:\n",
      "259553.964\n",
      "FpopPredicted:\n",
      "12262.392\n",
      "IndonesiaCmale:\n",
      "259213.342\n",
      "IndonesiaCfemale:\n",
      "9537.416000000001\n"
     ]
    }
   ],
   "source": [
    "print(\"INDONESIA\")\n",
    "MpopPredicted = 340622 * .762\n",
    "print(\"MpopPredicted:\")\n",
    "print(MpopPredicted)\n",
    "FpopPredicted = 340622 * .036\n",
    "print(\"FpopPredicted:\")\n",
    "print(FpopPredicted)\n",
    "IndonesiaCmale = 340622 * .761\n",
    "print(\"IndonesiaCmale:\")\n",
    "print(IndonesiaCmale)\n",
    "IndonesiaCfemale = 340622 * .028\n",
    "print(\"IndonesiaCfemale:\")\n",
    "print(IndonesiaCfemale)"
   ]
  },
  {
   "cell_type": "code",
   "execution_count": 41,
   "metadata": {},
   "outputs": [
    {
     "data": {
      "text/plain": [
       "(0.0, 100.0)"
      ]
     },
     "execution_count": 41,
     "metadata": {},
     "output_type": "execute_result"
    },
    {
     "data": {
      "image/png": "[encoded data removed]",
      "text/plain": [
       "<Figure size 432x288 with 1 Axes>"
      ]
     },
     "metadata": {
      "needs_background": "light"
     },
     "output_type": "display_data"
    }
   ],
   "source": [
    "ax = pd.DataFrame({\n",
    "    \"x\": [\"Bosnia and HerzegovinaC-male\" , \"Bosnia and HerzegovinaC-female\" , \"TPop\" , \"MPop\" , \"FPop\"],\n",
    "    \"y\": [47.7, 30.2, 38.6, 47.2, 30.0]\n",
    "}).plot.bar(x=\"x\" , y=\"y\", legend=False, color=['midnightblue', 'fuchsia', 'black', 'b', 'pink'])\n",
    "ax.set_ylim(0, 100)"
   ]
  },
  {
   "cell_type": "code",
   "execution_count": 42,
   "metadata": {},
   "outputs": [
    {
     "name": "stdout",
     "output_type": "stream",
     "text": [
      "INDONESIA\n",
      "MpopPredicted:\n",
      "14869.520999999999\n",
      "FpopPredicted:\n",
      "9414.246\n",
      "BosniaandHerzegovinaCmale:\n",
      "14713.655999999999\n",
      "BosniaandHerzegovinaCfemale:\n",
      "9351.9\n"
     ]
    }
   ],
   "source": [
    "print(\"INDONESIA\")\n",
    "MpopPredicted = 31173 * .477\n",
    "print(\"MpopPredicted:\")\n",
    "print(MpopPredicted)\n",
    "FpopPredicted = 31173 * .302\n",
    "print(\"FpopPredicted:\")\n",
    "print(FpopPredicted)\n",
    "BosniaandHerzegovinaCmale = 31173 * .472\n",
    "print(\"BosniaandHerzegovinaCmale:\")\n",
    "print(BosniaandHerzegovinaCmale)\n",
    "BosniaandHerzegovinaCfemale = 31173 * .300\n",
    "print(\"BosniaandHerzegovinaCfemale:\")\n",
    "print(BosniaandHerzegovinaCfemale)"
   ]
  },
  {
   "cell_type": "code",
   "execution_count": 43,
   "metadata": {},
   "outputs": [
    {
     "data": {
      "text/plain": [
       "(0.0, 100.0)"
      ]
     },
     "execution_count": 43,
     "metadata": {},
     "output_type": "execute_result"
    },
    {
     "data": {
      "image/png": "[encoded data removed]",
      "text/plain": [
       "<Figure size 432x288 with 1 Axes>"
      ]
     },
     "metadata": {
      "needs_background": "light"
     },
     "output_type": "display_data"
    }
   ],
   "source": [
    "ax = pd.DataFrame({\n",
    "    \"x\": [\"LebanonC-male\" , \"LebanonC-female\" , \"TPop\" , \"MPop\" , \"FPop\"],\n",
    "    \"y\": [40.7, 26.9, 38.2, 40.7, 31.00]\n",
    "}).plot.bar(x=\"x\" , y=\"y\", legend=False, color=['midnightblue', 'fuchsia', 'black', 'b', 'pink'])\n",
    "ax.set_ylim(0, 100)"
   ]
  },
  {
   "cell_type": "code",
   "execution_count": 44,
   "metadata": {},
   "outputs": [
    {
     "name": "stdout",
     "output_type": "stream",
     "text": [
      "LEBANON\n",
      "MpopPredicted:\n",
      "25364.526\n",
      "FpopPredicted:\n",
      "17319.39\n",
      "LebanonCmale:\n",
      "22738.682999999997\n",
      "LebanonCfemale:\n",
      "15028.761\n"
     ]
    }
   ],
   "source": [
    "print(\"LEBANON\")\n",
    "MpopPredicted = 55869 * .454\n",
    "print(\"MpopPredicted:\")\n",
    "print(MpopPredicted)\n",
    "FpopPredicted = 55869 * .31\n",
    "print(\"FpopPredicted:\")\n",
    "print(FpopPredicted)\n",
    "LebanonCmale = 55869 * .407\n",
    "print(\"LebanonCmale:\")\n",
    "print(LebanonCmale)\n",
    "LebanonCfemale = 55869 * .269\n",
    "print(\"LebanonCfemale:\")\n",
    "print(LebanonCfemale)"
   ]
  },
  {
   "cell_type": "code",
   "execution_count": 45,
   "metadata": {},
   "outputs": [
    {
     "data": {
      "text/plain": [
       "(0.0, 100.0)"
      ]
     },
     "execution_count": 45,
     "metadata": {},
     "output_type": "execute_result"
    },
    {
     "data": {
      "image/png": "[encoded data removed]",
      "text/plain": [
       "<Figure size 432x288 with 1 Axes>"
      ]
     },
     "metadata": {
      "needs_background": "light"
     },
     "output_type": "display_data"
    }
   ],
   "source": [
    "ax = pd.DataFrame({\n",
    "    \"x\": [\"ChileC-male\" , \"ChileC-female\" , \"TPop\" , \"MPop\" , \"FPop\"],\n",
    "    \"y\": [41.5, 34.2, 38.0, 40.0, 36.0]\n",
    "}).plot.bar(x=\"x\" , y=\"y\", legend=False, color=['midnightblue', 'fuchsia', 'black', 'b', 'pink'])\n",
    "ax.set_ylim(0, 100)"
   ]
  },
  {
   "cell_type": "code",
   "execution_count": 46,
   "metadata": {},
   "outputs": [
    {
     "name": "stdout",
     "output_type": "stream",
     "text": [
      "CHILE\n",
      "MpopPredicted:\n",
      "193712.0\n",
      "FpopPredicted:\n",
      "174340.8\n",
      "ChileCmale:\n",
      "200976.19999999998\n",
      "ChileCfemale:\n",
      "165623.76\n"
     ]
    }
   ],
   "source": [
    "print(\"CHILE\")\n",
    "MpopPredicted = 484280 * .40\n",
    "print(\"MpopPredicted:\")\n",
    "print(MpopPredicted)\n",
    "FpopPredicted = 484280 * .36\n",
    "print(\"FpopPredicted:\")\n",
    "print(FpopPredicted)\n",
    "ChileCmale = 484280 * .415\n",
    "print(\"ChileCmale:\")\n",
    "print(ChileCmale)\n",
    "ChileCfemale = 484280 * .342\n",
    "print(\"ChileCfemale:\")\n",
    "print(ChileCfemale)"
   ]
  },
  {
   "cell_type": "code",
   "execution_count": 47,
   "metadata": {},
   "outputs": [
    {
     "data": {
      "text/plain": [
       "(0.0, 100.0)"
      ]
     },
     "execution_count": 47,
     "metadata": {},
     "output_type": "execute_result"
    },
    {
     "data": {
      "image/png": "[encoded data removed]",
      "text/plain": [
       "<Figure size 432x288 with 1 Axes>"
      ]
     },
     "metadata": {
      "needs_background": "light"
     },
     "output_type": "display_data"
    }
   ],
   "source": [
    "ax = pd.DataFrame({\n",
    "    \"x\": [\"LatviaC-male\" , \"LatviaC-female\" , \"TPop\" , \"MPop\" , \"FPop\"],\n",
    "    \"y\": [51.0, 25.6, 36.6, 48.9, 24.3]\n",
    "}).plot.bar(x=\"x\" , y=\"y\", legend=False, color=['midnightblue', 'fuchsia', 'black', 'b', 'pink'])\n",
    "ax.set_ylim(0, 100)"
   ]
  },
  {
   "cell_type": "code",
   "execution_count": 48,
   "metadata": {},
   "outputs": [
    {
     "name": "stdout",
     "output_type": "stream",
     "text": [
      "LATVIA\n",
      "MpopPredicted:\n",
      "1388.76\n",
      "FpopPredicted:\n",
      "690.12\n",
      "LatviaCmale:\n",
      "1448.4\n",
      "LatviaCfemale:\n",
      "727.04\n"
     ]
    }
   ],
   "source": [
    "print(\"LATVIA\")\n",
    "MpopPredicted = 2840 * .489\n",
    "print(\"MpopPredicted:\")\n",
    "print(MpopPredicted)\n",
    "FpopPredicted = 2840 * .243\n",
    "print(\"FpopPredicted:\")\n",
    "print(FpopPredicted)\n",
    "LatviaCmale = 2840 * .510\n",
    "print(\"LatviaCmale:\")\n",
    "print(LatviaCmale)\n",
    "LatviaCfemale = 2840 * .256\n",
    "print(\"LatviaCfemale:\")\n",
    "print(LatviaCfemale)"
   ]
  },
  {
   "cell_type": "code",
   "execution_count": 49,
   "metadata": {},
   "outputs": [
    {
     "data": {
      "text/plain": [
       "(0.0, 100.0)"
      ]
     },
     "execution_count": 49,
     "metadata": {},
     "output_type": "execute_result"
    },
    {
     "data": {
      "image/png": "[encoded data removed]",
      "text/plain": [
       "<Figure size 432x288 with 1 Axes>"
      ]
     },
     "metadata": {
      "needs_background": "light"
     },
     "output_type": "display_data"
    }
   ],
   "source": [
    "ax = pd.DataFrame({\n",
    "    \"x\": [\"CroatiaC-male\" , \"CroatiaC-female\" , \"TPop\" , \"MPop\" , \"FPop\"],\n",
    "    \"y\": [39.9, 34.3, 36.45, 39.4, 33.5]\n",
    "}).plot.bar(x=\"x\" , y=\"y\", legend=False, color=['midnightblue', 'fuchsia', 'black', 'b', 'pink'])\n",
    "ax.set_ylim(0, 100)"
   ]
  },
  {
   "cell_type": "code",
   "execution_count": 50,
   "metadata": {},
   "outputs": [
    {
     "name": "stdout",
     "output_type": "stream",
     "text": [
      "CROATIA\n",
      "MpopPredicted:\n",
      "8271.242\n",
      "FpopPredicted:\n",
      "7032.655000000001\n",
      "CroatiaCmale:\n",
      "8376.207\n",
      "CroatiaCfemale:\n",
      "68940.599\n"
     ]
    }
   ],
   "source": [
    "print(\"CROATIA\")\n",
    "MpopPredicted = 20993 * .394\n",
    "print(\"MpopPredicted:\")\n",
    "print(MpopPredicted)\n",
    "FpopPredicted = 20993 * .335\n",
    "print(\"FpopPredicted:\")\n",
    "print(FpopPredicted)\n",
    "CroatiaCmale = 20993 * .399\n",
    "print(\"CroatiaCmale:\")\n",
    "print(CroatiaCmale)\n",
    "CroatiaCfemale = 200993 * .343\n",
    "print(\"CroatiaCfemale:\")\n",
    "print(CroatiaCfemale)"
   ]
  }
 ],
 "metadata": {
  "kernelspec": {
   "display_name": "Python 3",
   "language": "python",
   "name": "python3"
  },
  "language_info": {
   "codemirror_mode": {
    "name": "ipython",
    "version": 3
   },
   "file_extension": ".py",
   "mimetype": "text/x-python",
   "name": "python",
   "nbconvert_exporter": "python",
   "pygments_lexer": "ipython3",
   "version": "3.8.5"
  }
 },
 "nbformat": 4,
 "nbformat_minor": 4
}
