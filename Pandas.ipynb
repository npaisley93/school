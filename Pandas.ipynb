{
 "cells": [
  {
   "cell_type": "code",
   "execution_count": null,
   "metadata": {},
   "outputs": [],
   "source": [
    "import pandas as pd\n",
    "import numpy as np"
   ]
  },
  {
   "cell_type": "code",
   "execution_count": null,
   "metadata": {},
   "outputs": [],
   "source": [
    "df = pd.read_csv(\"https://github.com/owid/covid-19-data/raw/master/public/data/owid-covid-data.csv\")"
   ]
  },
  {
   "cell_type": "code",
   "execution_count": null,
   "metadata": {},
   "outputs": [],
   "source": [
    "df.info()"
   ]
  },
  {
   "cell_type": "code",
   "execution_count": null,
   "metadata": {},
   "outputs": [],
   "source": [
    "df.head()"
   ]
  },
  {
   "cell_type": "code",
   "execution_count": null,
   "metadata": {},
   "outputs": [],
   "source": [
    "import matplotlib.pylab as plt"
   ]
  },
  {
   "cell_type": "code",
   "execution_count": null,
   "metadata": {},
   "outputs": [],
   "source": [
    "#I wanted to see what the *_smokers table looked like.\n",
    "df.female_smokers.unique()"
   ]
  },
  {
   "cell_type": "code",
   "execution_count": null,
   "metadata": {},
   "outputs": [],
   "source": [
    "#This was a test to see if it would print multiple one after another...it would not.\n",
    "df[df.location == \"United States\"][[\"female_smokers\" , \"male_smokers\"]].value_counts();\n",
    "#df[df.location == \"Chile\"][[\"female_smokers\" , \"male_smokers\"]].value_counts();"
   ]
  },
  {
   "cell_type": "code",
   "execution_count": null,
   "metadata": {},
   "outputs": [],
   "source": [
    "df[df.location == \"Croatia\"][[\"female_smokers\" , \"male_smokers\"]].value_counts()"
   ]
  },
  {
   "cell_type": "code",
   "execution_count": null,
   "metadata": {},
   "outputs": [],
   "source": [
    "#i tried this command to see if I could get each countries to no avail.\n",
    "#df[df.location.unique()][[\"female_smokers\" , \"male_smokers\"]].value_counts();"
   ]
  },
  {
   "cell_type": "code",
   "execution_count": null,
   "metadata": {},
   "outputs": [],
   "source": [
    "\"\"\"\n",
    "I looked up data from https://worldpopulationreview.com/country-rankings/smoking-rates-by-country whos data is provided by https://www.who.int/gho/tobacco/use/en/.\n",
    "To find the countries that smoke the most and see if they have a higer number of covid smokers. \n",
    "Country Total Smoking Rate Male Smoking Rate Female Smoking Rate\n",
    "Kiribati\t52.40%\t63.90%\t40.90% (not in location.unique)\n",
    "Nauru\t47.50%\t43.00%\t52.00% (not in location.unique)\n",
    "Greece\t42.65%\t52.60%\t32.70%\n",
    "Serbia\t41.65%\t43.60%\t39.70%\n",
    "Russia\t40.90%\t59.00%\t22.80%\n",
    "Jordan\t40.45%\t70.20%\t10.70%\n",
    "Indonesia\t39.90%\t76.20%\t3.60%\n",
    "Bosnia And Herzegovina\t38.60%\t47.20%\t30.00%\n",
    "Lebanon\t38.20%\t45.40%\t31.00%\n",
    "Chile\t38.00%\t40.00%\t36.00%\n",
    "Latvia\t36.60%\t48.90%\t24.30%\n",
    "Croatia\t36.45%\t39.40%\t33.50%\n",
    "\n",
    "This is to get a ratio of smoking population to covid case smokers.\n",
    "\"\"\""
   ]
  },
  {
   "cell_type": "code",
   "execution_count": null,
   "metadata": {},
   "outputs": [],
   "source": [
    "#This will give me the percentage of smokers for the selected country\n",
    "df[df.location == \"Greece\"][[\"female_smokers\" , \"male_smokers\"]].value_counts()"
   ]
  },
  {
   "cell_type": "code",
   "execution_count": null,
   "metadata": {},
   "outputs": [],
   "source": [
    "#This will give me the max cases for the selected country\n",
    "df[df.location == \"Greece\"].total_cases.max()"
   ]
  },
  {
   "cell_type": "code",
   "execution_count": null,
   "metadata": {},
   "outputs": [],
   "source": [
    "df[df.location == \"Serbia\"][[\"female_smokers\" , \"male_smokers\"]].value_counts()"
   ]
  },
  {
   "cell_type": "code",
   "execution_count": null,
   "metadata": {},
   "outputs": [],
   "source": [
    "df[df.location == \"Serbia\"].total_cases.max()"
   ]
  },
  {
   "cell_type": "code",
   "execution_count": null,
   "metadata": {},
   "outputs": [],
   "source": [
    "df[df.location == \"Russia\"][[\"female_smokers\" , \"male_smokers\"]].value_counts()"
   ]
  },
  {
   "cell_type": "code",
   "execution_count": null,
   "metadata": {},
   "outputs": [],
   "source": [
    "df[df.location == \"Russia\"].total_cases.max()"
   ]
  },
  {
   "cell_type": "code",
   "execution_count": null,
   "metadata": {},
   "outputs": [],
   "source": [
    "df[df.location == \"Jordan\"][[\"female_smokers\" , \"male_smokers\"]].value_counts()"
   ]
  },
  {
   "cell_type": "code",
   "execution_count": null,
   "metadata": {},
   "outputs": [],
   "source": [
    "df[df.location == \"Jordan\"].total_cases.max()"
   ]
  },
  {
   "cell_type": "code",
   "execution_count": null,
   "metadata": {},
   "outputs": [],
   "source": [
    "df[df.location == \"Indonesia\"][[\"female_smokers\" , \"male_smokers\"]].value_counts()"
   ]
  },
  {
   "cell_type": "code",
   "execution_count": null,
   "metadata": {},
   "outputs": [],
   "source": [
    "df[df.location == \"Indonesia\"].total_cases.max()"
   ]
  },
  {
   "cell_type": "code",
   "execution_count": null,
   "metadata": {},
   "outputs": [],
   "source": [
    "df[df.location == \"Bosnia and Herzegovina\"][[\"female_smokers\" , \"male_smokers\"]].value_counts()"
   ]
  },
  {
   "cell_type": "code",
   "execution_count": null,
   "metadata": {},
   "outputs": [],
   "source": [
    "df[df.location == \"Bosnia and Herzegovina\"].total_cases.max()"
   ]
  },
  {
   "cell_type": "code",
   "execution_count": null,
   "metadata": {},
   "outputs": [],
   "source": [
    "df[df.location == \"Lebanon\"][[\"female_smokers\" , \"male_smokers\"]].value_counts()"
   ]
  },
  {
   "cell_type": "code",
   "execution_count": null,
   "metadata": {},
   "outputs": [],
   "source": [
    "df[df.location == \"Lebanon\"].total_cases.max()"
   ]
  },
  {
   "cell_type": "code",
   "execution_count": null,
   "metadata": {},
   "outputs": [],
   "source": [
    "df[df.location == \"Chile\"][[\"female_smokers\" , \"male_smokers\"]].value_counts()"
   ]
  },
  {
   "cell_type": "code",
   "execution_count": null,
   "metadata": {},
   "outputs": [],
   "source": [
    "df[df.location == \"Chile\"].total_cases.max()"
   ]
  },
  {
   "cell_type": "code",
   "execution_count": null,
   "metadata": {},
   "outputs": [],
   "source": [
    "df[df.location == \"Latvia\"][[\"female_smokers\" , \"male_smokers\"]].value_counts()"
   ]
  },
  {
   "cell_type": "code",
   "execution_count": null,
   "metadata": {},
   "outputs": [],
   "source": [
    "df[df.location == \"Latvia\"].total_cases.max()"
   ]
  },
  {
   "cell_type": "code",
   "execution_count": null,
   "metadata": {},
   "outputs": [],
   "source": [
    "df[df.location == \"Croatia\"][[\"female_smokers\" , \"male_smokers\"]].value_counts()"
   ]
  },
  {
   "cell_type": "code",
   "execution_count": null,
   "metadata": {},
   "outputs": [],
   "source": [
    "df[df.location == \"Croatia\"].total_cases.max()"
   ]
  },
  {
   "cell_type": "code",
   "execution_count": null,
   "metadata": {},
   "outputs": [],
   "source": [
    "#This is going to graph the percentage of <country>-Coronia virus smoker percentage (C) , TotalPop of smokers percentage, MalePop smokers percetage and FemalePop smokers percentage.\n",
    "ax = pd.DataFrame({\n",
    "    \"x\": [\"GreeceC-male\" , \"GreeceC-female\" , \"TPop\" , \"MPop\" , \"FPop\"],\n",
    "    \"y\": [52.0, 35.3, 42.65, 52.60, 32.70]\n",
    "}).plot.bar(x=\"x\" , y=\"y\", legend=False, color=['midnightblue', 'fuchsia', 'black', 'b', 'pink'])\n",
    "ax.set_ylim(0, 100)"
   ]
  },
  {
   "cell_type": "code",
   "execution_count": null,
   "metadata": {},
   "outputs": [],
   "source": [
    "#This will show the ratio of cases to smokers from a predicted standpoint to an actual.\n",
    "print(\"GREECE\")\n",
    "MpopPredicted = 23060 * .639\n",
    "print(\"MpopPredicted:\")\n",
    "print(MpopPredicted)\n",
    "FpopPredicted = 23060 * .409\n",
    "print(\"FpopPredicted:\")\n",
    "print(FpopPredicted)\n",
    "GreeceCmale = 23060 * .52\n",
    "print(\"GreeceCmale:\")\n",
    "print(GreeceCmale)\n",
    "GreeceCfemale = 23060 * .353\n",
    "print(\"GreeceCfemale:\")\n",
    "print(GreeceCfemale)"
   ]
  },
  {
   "cell_type": "code",
   "execution_count": null,
   "metadata": {},
   "outputs": [],
   "source": [
    "ax = pd.DataFrame({\n",
    "    \"x\": [\"SerbiaC-male\" , \"SerbiaC-female\" , \"TPop\" , \"MPop\" , \"FPop\"],\n",
    "    \"y\": [40.2, 37.7, 41.65, 43.6, 39.7]\n",
    "}).plot.bar(x=\"x\" , y=\"y\", legend=False, color=['midnightblue', 'fuchsia', 'black', 'b', 'pink'])\n",
    "ax.set_ylim(0, 100)"
   ]
  },
  {
   "cell_type": "code",
   "execution_count": null,
   "metadata": {},
   "outputs": [],
   "source": [
    "print(\"SERBIA\")\n",
    "MpopPredicted = 35006 * .436\n",
    "print(\"MpopPredicted:\")\n",
    "print(MpopPredicted)\n",
    "FpopPredicted = 35006 * .397\n",
    "print(\"FpopPredicted:\")\n",
    "print(FpopPredicted)\n",
    "SerbiaCmale = 35006 * .402\n",
    "print(\"SerbiaCmale:\")\n",
    "print(SerbiaCmale)\n",
    "SerbiaCfemale = 35006 * .377\n",
    "print(\"SerbiaCfemale:\")\n",
    "print(SerbiaCfemale)"
   ]
  },
  {
   "cell_type": "code",
   "execution_count": null,
   "metadata": {},
   "outputs": [],
   "source": [
    "ax = pd.DataFrame({\n",
    "    \"x\": [\"RussiaC-male\" , \"RussiaC-female\" , \"TPop\" , \"MPop\" , \"FPop\"],\n",
    "    \"y\": [58.3, 23.4, 40.9, 59.0, 22.8]\n",
    "}).plot.bar(x=\"x\" , y=\"y\", legend=False, color=['midnightblue', 'fuchsia', 'black', 'b', 'pink'])\n",
    "ax.set_ylim(0, 100)"
   ]
  },
  {
   "cell_type": "code",
   "execution_count": null,
   "metadata": {},
   "outputs": [],
   "source": [
    "print(\"RUSSIA\")\n",
    "MpopPredicted = 1326178 * .59\n",
    "print(\"MpopPredicted:\")\n",
    "print(MpopPredicted)\n",
    "FpopPredicted = 1326178* .228\n",
    "print(\"FpopPredicted:\")\n",
    "print(FpopPredicted)\n",
    "RussiaCmale = 1326178 * .583\n",
    "print(\"RussiaCmale:\")\n",
    "print(RussiaCmale)\n",
    "RussiaCfemale = 1326178 * .234\n",
    "print(\"RussiaCfemale:\")\n",
    "print(RussiaCfemale)"
   ]
  },
  {
   "cell_type": "code",
   "execution_count": null,
   "metadata": {},
   "outputs": [],
   "source": [
    "ax = pd.DataFrame({\n",
    "    \"x\": [\"JordanC-male\" , \"JordanC-female\" , \"TPop\" , \"MPop\" , \"FPop\"],\n",
    "    \"y\": [0, 0, 40.45, 70.2, 10.7]\n",
    "}).plot.bar(x=\"x\" , y=\"y\", legend=False, color=['midnightblue', 'fuchsia', 'black', 'b', 'pink'])\n",
    "ax.set_ylim(0, 100)"
   ]
  },
  {
   "cell_type": "code",
   "execution_count": null,
   "metadata": {},
   "outputs": [],
   "source": [
    "print(\"JORDAN\")\n",
    "MpopPredicted = 28127 * .702\n",
    "print(\"MpopPredicted:\")\n",
    "print(MpopPredicted)\n",
    "FpopPredicted = 28127 * .107\n",
    "print(\"FpopPredicted:\")\n",
    "print(FpopPredicted)\n",
    "JordanCmale = 28127 * 0\n",
    "print(\"JordanCmale:\")\n",
    "print(JordanCmale)\n",
    "JordanCfemale = 28127 * 0\n",
    "print(\"JordanCfemale:\")\n",
    "print(JordanCfemale)"
   ]
  },
  {
   "cell_type": "code",
   "execution_count": null,
   "metadata": {},
   "outputs": [],
   "source": [
    "ax = pd.DataFrame({\n",
    "    \"x\": [\"IndonesiaC-male\" , \"IndonesiaC-female\" , \"TPop\" , \"MPop\" , \"FPop\"],\n",
    "    \"y\": [76.1, 2.8, 39.9, 76.1, 2.8]\n",
    "}).plot.bar(x=\"x\" , y=\"y\", legend=False, color=['midnightblue', 'fuchsia', 'black', 'b', 'pink'])\n",
    "ax.set_ylim(0, 100)"
   ]
  },
  {
   "cell_type": "code",
   "execution_count": null,
   "metadata": {},
   "outputs": [],
   "source": [
    "print(\"INDONESIA\")\n",
    "MpopPredicted = 340622 * .762\n",
    "print(\"MpopPredicted:\")\n",
    "print(MpopPredicted)\n",
    "FpopPredicted = 340622 * .036\n",
    "print(\"FpopPredicted:\")\n",
    "print(FpopPredicted)\n",
    "IndonesiaCmale = 340622 * .761\n",
    "print(\"IndonesiaCmale:\")\n",
    "print(IndonesiaCmale)\n",
    "IndonesiaCfemale = 340622 * .028\n",
    "print(\"IndonesiaCfemale:\")\n",
    "print(IndonesiaCfemale)"
   ]
  },
  {
   "cell_type": "code",
   "execution_count": null,
   "metadata": {},
   "outputs": [],
   "source": [
    "ax = pd.DataFrame({\n",
    "    \"x\": [\"Bosnia and HerzegovinaC-male\" , \"Bosnia and HerzegovinaC-female\" , \"TPop\" , \"MPop\" , \"FPop\"],\n",
    "    \"y\": [47.7, 30.2, 38.6, 47.2, 30.0]\n",
    "}).plot.bar(x=\"x\" , y=\"y\", legend=False, color=['midnightblue', 'fuchsia', 'black', 'b', 'pink'])\n",
    "ax.set_ylim(0, 100)"
   ]
  },
  {
   "cell_type": "code",
   "execution_count": null,
   "metadata": {},
   "outputs": [],
   "source": [
    "print(\"INDONESIA\")\n",
    "MpopPredicted = 31173 * .477\n",
    "print(\"MpopPredicted:\")\n",
    "print(MpopPredicted)\n",
    "FpopPredicted = 31173 * .302\n",
    "print(\"FpopPredicted:\")\n",
    "print(FpopPredicted)\n",
    "BosniaandHerzegovinaCmale = 31173 * .472\n",
    "print(\"BosniaandHerzegovinaCmale:\")\n",
    "print(BosniaandHerzegovinaCmale)\n",
    "BosniaandHerzegovinaCfemale = 31173 * .300\n",
    "print(\"BosniaandHerzegovinaCfemale:\")\n",
    "print(BosniaandHerzegovinaCfemale)"
   ]
  },
  {
   "cell_type": "code",
   "execution_count": null,
   "metadata": {},
   "outputs": [],
   "source": [
    "ax = pd.DataFrame({\n",
    "    \"x\": [\"LebanonC-male\" , \"LebanonC-female\" , \"TPop\" , \"MPop\" , \"FPop\"],\n",
    "    \"y\": [40.7, 26.9, 38.2, 40.7, 31.00]\n",
    "}).plot.bar(x=\"x\" , y=\"y\", legend=False, color=['midnightblue', 'fuchsia', 'black', 'b', 'pink'])\n",
    "ax.set_ylim(0, 100)"
   ]
  },
  {
   "cell_type": "code",
   "execution_count": null,
   "metadata": {},
   "outputs": [],
   "source": [
    "print(\"LEBANON\")\n",
    "MpopPredicted = 55869 * .454\n",
    "print(\"MpopPredicted:\")\n",
    "print(MpopPredicted)\n",
    "FpopPredicted = 55869 * .31\n",
    "print(\"FpopPredicted:\")\n",
    "print(FpopPredicted)\n",
    "LebanonCmale = 55869 * .407\n",
    "print(\"LebanonCmale:\")\n",
    "print(LebanonCmale)\n",
    "LebanonCfemale = 55869 * .269\n",
    "print(\"LebanonCfemale:\")\n",
    "print(LebanonCfemale)"
   ]
  },
  {
   "cell_type": "code",
   "execution_count": null,
   "metadata": {},
   "outputs": [],
   "source": [
    "ax = pd.DataFrame({\n",
    "    \"x\": [\"ChileC-male\" , \"ChileC-female\" , \"TPop\" , \"MPop\" , \"FPop\"],\n",
    "    \"y\": [41.5, 34.2, 38.0, 40.0, 36.0]\n",
    "}).plot.bar(x=\"x\" , y=\"y\", legend=False, color=['midnightblue', 'fuchsia', 'black', 'b', 'pink'])\n",
    "ax.set_ylim(0, 100)"
   ]
  },
  {
   "cell_type": "code",
   "execution_count": null,
   "metadata": {},
   "outputs": [],
   "source": [
    "print(\"CHILE\")\n",
    "MpopPredicted = 484280 * .40\n",
    "print(\"MpopPredicted:\")\n",
    "print(MpopPredicted)\n",
    "FpopPredicted = 484280 * .36\n",
    "print(\"FpopPredicted:\")\n",
    "print(FpopPredicted)\n",
    "ChileCmale = 484280 * .415\n",
    "print(\"ChileCmale:\")\n",
    "print(ChileCmale)\n",
    "ChileCfemale = 484280 * .342\n",
    "print(\"ChileCfemale:\")\n",
    "print(ChileCfemale)"
   ]
  },
  {
   "cell_type": "code",
   "execution_count": null,
   "metadata": {},
   "outputs": [],
   "source": [
    "ax = pd.DataFrame({\n",
    "    \"x\": [\"LatviaC-male\" , \"LatviaC-female\" , \"TPop\" , \"MPop\" , \"FPop\"],\n",
    "    \"y\": [51.0, 25.6, 36.6, 48.9, 24.3]\n",
    "}).plot.bar(x=\"x\" , y=\"y\", legend=False, color=['midnightblue', 'fuchsia', 'black', 'b', 'pink'])\n",
    "ax.set_ylim(0, 100)"
   ]
  },
  {
   "cell_type": "code",
   "execution_count": null,
   "metadata": {},
   "outputs": [],
   "source": [
    "print(\"LATVIA\")\n",
    "MpopPredicted = 2840 * .489\n",
    "print(\"MpopPredicted:\")\n",
    "print(MpopPredicted)\n",
    "FpopPredicted = 2840 * .243\n",
    "print(\"FpopPredicted:\")\n",
    "print(FpopPredicted)\n",
    "LatviaCmale = 2840 * .510\n",
    "print(\"LatviaCmale:\")\n",
    "print(LatviaCmale)\n",
    "LatviaCfemale = 2840 * .256\n",
    "print(\"LatviaCfemale:\")\n",
    "print(LatviaCfemale)"
   ]
  },
  {
   "cell_type": "code",
   "execution_count": null,
   "metadata": {},
   "outputs": [],
   "source": [
    "ax = pd.DataFrame({\n",
    "    \"x\": [\"CroatiaC-male\" , \"CroatiaC-female\" , \"TPop\" , \"MPop\" , \"FPop\"],\n",
    "    \"y\": [39.9, 34.3, 36.45, 39.4, 33.5]\n",
    "}).plot.bar(x=\"x\" , y=\"y\", legend=False, color=['midnightblue', 'fuchsia', 'black', 'b', 'pink'])\n",
    "ax.set_ylim(0, 100)"
   ]
  },
  {
   "cell_type": "code",
   "execution_count": null,
   "metadata": {},
   "outputs": [],
   "source": [
    "print(\"CROATIA\")\n",
    "MpopPredicted = 20993 * .394\n",
    "print(\"MpopPredicted:\")\n",
    "print(MpopPredicted)\n",
    "FpopPredicted = 20993 * .335\n",
    "print(\"FpopPredicted:\")\n",
    "print(FpopPredicted)\n",
    "CroatiaCmale = 20993 * .399\n",
    "print(\"CroatiaCmale:\")\n",
    "print(CroatiaCmale)\n",
    "CroatiaCfemale = 200993 * .343\n",
    "print(\"CroatiaCfemale:\")\n",
    "print(CroatiaCfemale)"
   ]
  },
  {
   "cell_type": "code",
   "execution_count": null,
   "metadata": {},
   "outputs": [],
   "source": []
  }
 ],
 "metadata": {
  "kernelspec": {
   "display_name": "Python 3",
   "language": "python",
   "name": "python3"
  },
  "language_info": {
   "codemirror_mode": {
    "name": "ipython",
    "version": 3
   },
   "file_extension": ".py",
   "mimetype": "text/x-python",
   "name": "python",
   "nbconvert_exporter": "python",
   "pygments_lexer": "ipython3",
   "version": "3.8.5"
  }
 },
 "nbformat": 4,
 "nbformat_minor": 4
}
