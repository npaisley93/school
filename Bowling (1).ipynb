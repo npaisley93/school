{
 "cells": [
  {
   "cell_type": "code",
   "execution_count": null,
   "metadata": {},
   "outputs": [],
   "source": [
    "import requests\n",
    "import pandas as pd\n",
    "import sqlite3\n",
    "import lxml.html"
   ]
  },
  {
   "cell_type": "code",
   "execution_count": null,
   "metadata": {},
   "outputs": [],
   "source": [
    "r = requests.get(\"https://www.pba.com/players/jason-belmonte\")"
   ]
  },
  {
   "cell_type": "code",
   "execution_count": null,
   "metadata": {},
   "outputs": [],
   "source": [
    "r"
   ]
  },
  {
   "cell_type": "code",
   "execution_count": null,
   "metadata": {},
   "outputs": [],
   "source": [
    "html         = lxml.html.fromstring(r.text)\n",
    "core         = html.xpath('/html/body/div[1]/div/main/div/div[2]/div[2]/div/div/div[2]/article/div/div[4]/div[1]/div[2]/div/div/div/div/table')\n",
    "tbody        = core[0].getchildren()\n",
    "#div          = tbody[0].getchildren()"
   ]
  },
  {
   "cell_type": "code",
   "execution_count": null,
   "metadata": {},
   "outputs": [],
   "source": [
    "tbody"
   ]
  },
  {
   "cell_type": "code",
   "execution_count": null,
   "metadata": {},
   "outputs": [],
   "source": [
    "tbody[0].getchildren()[0].text_content()"
   ]
  },
  {
   "cell_type": "code",
   "execution_count": null,
   "metadata": {},
   "outputs": [],
   "source": [
    "len(tbody[1])"
   ]
  },
  {
   "cell_type": "code",
   "execution_count": null,
   "metadata": {},
   "outputs": [],
   "source": [
    "data = {\n",
    "    \"Years\":            [],\n",
    "    \"Events\":           [],\n",
    "    \"Cashes\":           [],\n",
    "    \"Match Play\":       [],\n",
    "    \"CRA\":              [],\n",
    "    \"Titles\":           [],\n",
    "    \"AVG\":              [],\n",
    "    \"Earnings\":         [],\n",
    "}\n",
    "\n",
    "for row in tbody[1].getchildren()[1:13]:\n",
    "    data[\"Years\"].append(row.getchildren()[0].text_content().strip())\n",
    "    data[\"Events\"].append(row.getchildren()[1].text_content().strip())\n",
    "    data[\"Cashes\"].append(row.getchildren()[2].text_content().strip())\n",
    "    data[\"Match Play\"].append(row.getchildren()[3].text_content().strip())\n",
    "    data[\"CRA\"].append(row.getchildren()[4].text_content().strip())\n",
    "    data[\"Titles\"].append(row.getchildren()[5].text_content().strip())\n",
    "    data[\"AVG\"].append(row.getchildren()[6].text_content().strip())\n",
    "    data[\"Earnings\"].append(row.getchildren()[7].text_content().strip())\n",
    "df = pd.DataFrame(data)"
   ]
  },
  {
   "cell_type": "code",
   "execution_count": null,
   "metadata": {},
   "outputs": [],
   "source": [
    "df"
   ]
  },
  {
   "cell_type": "code",
   "execution_count": null,
   "metadata": {},
   "outputs": [],
   "source": [
    "df.Years = df.Years.astype(int)\n",
    "df.Events = df.Events.astype(int)\n",
    "df.Cashes = df.Cashes.astype(int)\n",
    "#df.Match Play.astype(int)\n",
    "df.CRA = df.CRA.astype(int)\n",
    "df.Titles = df.Titles.astype(int)\n",
    "df.AVG = df.AVG.astype(float)\n",
    "#df.Earnings.astype(float)"
   ]
  },
  {
   "cell_type": "code",
   "execution_count": null,
   "metadata": {},
   "outputs": [],
   "source": [
    "df[df.CRA == 3]"
   ]
  },
  {
   "cell_type": "code",
   "execution_count": null,
   "metadata": {},
   "outputs": [],
   "source": [
    "df[df.Cashes == 15]"
   ]
  },
  {
   "cell_type": "code",
   "execution_count": null,
   "metadata": {},
   "outputs": [],
   "source": [
    "df.info()"
   ]
  },
  {
   "cell_type": "code",
   "execution_count": null,
   "metadata": {},
   "outputs": [],
   "source": [
    "for row in df[df.Cashes.isin([15,17])].itertuples():\n",
    "    #print(row[1:])\n",
    "    pass"
   ]
  },
  {
   "cell_type": "code",
   "execution_count": null,
   "metadata": {},
   "outputs": [],
   "source": [
    "row[0:]"
   ]
  },
  {
   "cell_type": "code",
   "execution_count": null,
   "metadata": {},
   "outputs": [],
   "source": [
    "len(row[1:])"
   ]
  },
  {
   "cell_type": "code",
   "execution_count": null,
   "metadata": {},
   "outputs": [],
   "source": [
    "db     = sqlite3.connect(\":memory:\")\n",
    "cursor = db.cursor()\n",
    "cursor.execute(\"\"\"\n",
    " CREATE TABLE JASONBELMONTE(YEARS, EVENTS, CASHES, MATCHPLAY, CRA, TITLES, AVG, EARNINGS)\n",
    "\"\"\")\n",
    "\n",
    "for row in df[df.Cashes.isin([15,17])].itertuples():\n",
    "    insert_sql_syntax = \"\"\"\n",
    "    INSERT INTO JASONBELMONTE(YEARS, EVENTS, CASHES, MATCHPLAY, CRA, TITLES, AVG, EARNINGS)\n",
    "    VALUES (?,?,?,?,?,?,?,?)\n",
    "    \"\"\"\n",
    "    cursor.execute(insert_sql_syntax, row[1:])\n",
    "    #print(row[1:])\n",
    "db.commit()\n",
    "\n",
    "#db.close()"
   ]
  },
  {
   "cell_type": "code",
   "execution_count": null,
   "metadata": {},
   "outputs": [],
   "source": [
    "cursor.execute(\"\"\"\n",
    "    SELECT *\n",
    "    FROM JASONBELMONTE\n",
    "    WHERE CASHES == 15\n",
    "\"\"\")"
   ]
  },
  {
   "cell_type": "code",
   "execution_count": null,
   "metadata": {},
   "outputs": [],
   "source": [
    "for row in cursor.execute(\"\"\"\n",
    "    SELECT *\n",
    "    FROM JASONBELMONTE\n",
    "    WHERE CASHES == 15\n",
    "\"\"\"):\n",
    "    print(row)"
   ]
  },
  {
   "cell_type": "code",
   "execution_count": null,
   "metadata": {},
   "outputs": [],
   "source": []
  }
 ],
 "metadata": {
  "kernelspec": {
   "display_name": "Python 3",
   "language": "python",
   "name": "python3"
  },
  "language_info": {
   "codemirror_mode": {
    "name": "ipython",
    "version": 3
   },
   "file_extension": ".py",
   "mimetype": "text/x-python",
   "name": "python",
   "nbconvert_exporter": "python",
   "pygments_lexer": "ipython3",
   "version": "3.8.5"
  }
 },
 "nbformat": 4,
 "nbformat_minor": 4
}
