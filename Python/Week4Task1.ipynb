{
 "cells": [
  {
   "cell_type": "markdown",
   "metadata": {},
   "source": [
    "Nicholas Paisley - Week 4 Task 1"
   ]
  },
  {
   "cell_type": "code",
   "execution_count": 1,
   "metadata": {},
   "outputs": [],
   "source": [
    "from PIL import Image, ImageFilter\n",
    "from os import listdir #import funtion for listing all files\n",
    "import numpy as np"
   ]
  },
  {
   "cell_type": "code",
   "execution_count": 2,
   "metadata": {},
   "outputs": [],
   "source": [
    "def SSR(x,y): #Creating an SSR defintion\n",
    "    ssr = np.sum((x-y)**2) #SSR equation\n",
    "    return ssr"
   ]
  },
  {
   "cell_type": "code",
   "execution_count": 3,
   "metadata": {},
   "outputs": [],
   "source": [
    "#reading the image\n",
    "spy = Image.open( 'DC.png' )\n",
    "spy.show()"
   ]
  },
  {
   "cell_type": "code",
   "execution_count": 4,
   "metadata": {},
   "outputs": [],
   "source": [
    "pix1 = np.array(spy) #creating an array for the \"spy\" image"
   ]
  },
  {
   "cell_type": "code",
   "execution_count": 5,
   "metadata": {},
   "outputs": [],
   "source": [
    "listing = listdir('Photos') #creating a dictinary for the Photos (the path)\n",
    "#listdir: returns a list containing the names of the entries in the directory given by path"
   ]
  },
  {
   "cell_type": "code",
   "execution_count": 6,
   "metadata": {},
   "outputs": [],
   "source": [
    "files = [] #stores all the file names\n",
    "scores = [] #stores the ssr vales for each file \n",
    "path = \"Photos//\" #where the picture is stored\n",
    "\n",
    "for x in listing:\n",
    "    if x.endswith('.png') and x != 'DC.png': #if statement to go through all the photos that end in .png and excluding the DC.png photo\n",
    "        sus = Image.open(path + x) #open image\n",
    "        sus_pix = np.array(sus) #convert to np.array\n",
    "        \n",
    "        score = SSR(pix1,sus_pix)  #determines ssr for the opened file\n",
    "        \n",
    "        files.append(x) #puts the photos into an array after they are read so they would not be repeated\n",
    "        scores.append(score) #putting the SSR scores from each photo into an array "
   ]
  },
  {
   "cell_type": "code",
   "execution_count": 7,
   "metadata": {},
   "outputs": [
    {
     "name": "stdout",
     "output_type": "stream",
     "text": [
      "The file that matches the best is 'photo21.png' and has an SSR of '0'\n"
     ]
    }
   ],
   "source": [
    "y = np.argmin(np.array(scores)) #gets the index for the lowest ssr\n",
    "print(\"The file that matches the best is '{0}' and has an SSR of '{1}'\".format(files[y],scores[y]))"
   ]
  }
 ],
 "metadata": {
  "kernelspec": {
   "display_name": "Python 3",
   "language": "python",
   "name": "python3"
  },
  "language_info": {
   "codemirror_mode": {
    "name": "ipython",
    "version": 3
   },
   "file_extension": ".py",
   "mimetype": "text/x-python",
   "name": "python",
   "nbconvert_exporter": "python",
   "pygments_lexer": "ipython3",
   "version": "3.8.5"
  }
 },
 "nbformat": 4,
 "nbformat_minor": 4
}
