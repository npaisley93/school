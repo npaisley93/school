{
 "cells": [
  {
   "cell_type": "markdown",
   "metadata": {},
   "source": [
    "Week 3 - Submission 1\n",
    "A, B,  C and D are matrices given below:\n",
    "        130  120  105                6  7               5  2  7                245\n",
    "A =      4      3      1        B =  4  5         C = 3  5  1         D =     6\n",
    "            2      5      1                8  9               7  2  1                    7\n",
    "Using Numpy compute:\n",
    "A+ C\n",
    "A- C\n",
    "AC\n",
    "CD\n",
    "\n",
    "Solve the matrix equation (linear system) for x:\n",
    "A x = D\n",
    "This system written out in full looks like:\n",
    "130x +120y +105z = 245\n",
    "4x +3y + z = 6\n",
    "2x +5y +z = 7\n",
    "and solves the following problem:\n",
    "I'm going on a diet and have decided I need to eat exactly 245 calories, 6 grams of protein and 7 grams of fat.\n",
    "Unfortunately, I open my cupboard to see that all I have is three boxes of cereal: Cheerios, Cinnamon Toast Crunch, and Rice Krispies. The nutritional information per serving is as follows:\n",
    "Cereal                                   Calories     Protein     Fat\n",
    "Cheerios                                     120          4           2\n",
    "Cinnamon Toast Crunch             130          3           5\n",
    "Rice Krispies                               105          1           2\n",
    "\n",
    "First I denote c as the number of servings of Cheerios, t as the number of servings of Cinnamon Toast Crunch and \n",
    "r as the number of servings of Rice Krispies then the three equations above have to be true simultaneously."
   ]
  },
  {
   "cell_type": "code",
   "execution_count": 1,
   "metadata": {},
   "outputs": [],
   "source": [
    "# import libraries that are required\n",
    "import numpy as np\n",
    "import sys\n",
    "import matplotlib.pyplot as plt\n",
    " #Setting up arrays for the problems  \n",
    "A = np.array([[130,120,105],\n",
    "              [4,3,1],\n",
    "              [2,5,1]], dtype=float)\n",
    "B = np.array([[6,7],\n",
    "              [4,5],\n",
    "              [8,9]], dtype=float)\n",
    "C = np.array([[5,2,7],\n",
    "              [3,5,1],\n",
    "              [7,2,1]], dtype=float)\n",
    "D = np.array([[245],\n",
    "               [6],\n",
    "               [7]], dtype=float)"
   ]
  },
  {
   "cell_type": "code",
   "execution_count": 2,
   "metadata": {},
   "outputs": [
    {
     "data": {
      "text/plain": [
       "array([[135., 122., 112.],\n",
       "       [  7.,   8.,   2.],\n",
       "       [  9.,   7.,   2.]])"
      ]
     },
     "execution_count": 2,
     "metadata": {},
     "output_type": "execute_result"
    }
   ],
   "source": [
    "A + C #matrix addition"
   ]
  },
  {
   "cell_type": "code",
   "execution_count": 3,
   "metadata": {},
   "outputs": [
    {
     "data": {
      "text/plain": [
       "array([[125., 118.,  98.],\n",
       "       [  1.,  -2.,   0.],\n",
       "       [ -5.,   3.,   0.]])"
      ]
     },
     "execution_count": 3,
     "metadata": {},
     "output_type": "execute_result"
    }
   ],
   "source": [
    "A - C #matrix substition "
   ]
  },
  {
   "cell_type": "code",
   "execution_count": 4,
   "metadata": {},
   "outputs": [
    {
     "data": {
      "text/plain": [
       "array([[1745., 1070., 1135.],\n",
       "       [  36.,   25.,   32.],\n",
       "       [  32.,   31.,   20.]])"
      ]
     },
     "execution_count": 4,
     "metadata": {},
     "output_type": "execute_result"
    }
   ],
   "source": [
    "np.matmul(A,C) #True Matrix Multiplication"
   ]
  },
  {
   "cell_type": "code",
   "execution_count": 5,
   "metadata": {},
   "outputs": [
    {
     "data": {
      "text/plain": [
       "array([[1286.],\n",
       "       [ 772.],\n",
       "       [1734.]])"
      ]
     },
     "execution_count": 5,
     "metadata": {},
     "output_type": "execute_result"
    }
   ],
   "source": [
    "np.matmul(C,D) #True Matrix Multiplication"
   ]
  },
  {
   "cell_type": "code",
   "execution_count": 6,
   "metadata": {},
   "outputs": [
    {
     "data": {
      "text/plain": [
       "array([[0.59278351],\n",
       "       [1.09278351],\n",
       "       [0.35051546]])"
      ]
     },
     "execution_count": 6,
     "metadata": {},
     "output_type": "execute_result"
    }
   ],
   "source": [
    "x = np.linalg.solve(A,D) #solving the system of equations (example problem)\n",
    "x"
   ]
  },
  {
   "cell_type": "markdown",
   "metadata": {},
   "source": [
    "CEREAL"
   ]
  },
  {
   "cell_type": "code",
   "execution_count": 7,
   "metadata": {},
   "outputs": [],
   "source": [
    "#Cheerios (3x1)\n",
    "#Calories Protein Fat\n",
    "c = np.array([[120],\n",
    "              [4],\n",
    "              [2]], dtype=float)\n",
    "\n",
    "#Cinnamon Toast Crunch (3x1)\n",
    "#Calories Protein Fat\n",
    "t = np.array([[130],\n",
    "              [3],\n",
    "              [5]], dtype=float)\n",
    "\n",
    "#Rice Krispies (3x1)\n",
    "#Calories Protein Fat\n",
    "r = np.array([[105],\n",
    "              [1],\n",
    "              [2]], dtype=float)\n",
    "\n",
    "#All cereals \n",
    "ctr = np.array([[120,130,105],\n",
    "              [4,3,1],\n",
    "              [2,5,2]] , dtype=float)\n",
    "\n",
    "#Diet (3x1)\n",
    "d = np.array([[245],\n",
    "             [6],\n",
    "             [7]], dtype=float)"
   ]
  },
  {
   "cell_type": "markdown",
   "metadata": {},
   "source": [
    "To find the x ,\n",
    "A x = B\n",
    "(A^-1) * A * x = B * (A^-1)\n",
    "I * x = B * (A^-1)\n",
    "x = (A^-1)(B)"
   ]
  },
  {
   "cell_type": "code",
   "execution_count": 8,
   "metadata": {},
   "outputs": [
    {
     "data": {
      "text/plain": [
       "array([[ 0.00123457,  0.32716049, -0.22839506],\n",
       "       [-0.00740741,  0.03703704,  0.37037037],\n",
       "       [ 0.01728395, -0.41975309, -0.19753086]])"
      ]
     },
     "execution_count": 8,
     "metadata": {},
     "output_type": "execute_result"
    }
   ],
   "source": [
    "AInverse = np.linalg.inv(ctr) # found the inverse of A\n",
    "AInverse"
   ]
  },
  {
   "cell_type": "code",
   "execution_count": 9,
   "metadata": {},
   "outputs": [
    {
     "data": {
      "text/plain": [
       "array([[0.66666667],\n",
       "       [1.        ],\n",
       "       [0.33333333]])"
      ]
     },
     "execution_count": 9,
     "metadata": {},
     "output_type": "execute_result"
    }
   ],
   "source": [
    "v = np.matmul(AInverse,d) #multiply A inverse and d (diet).\n",
    "v"
   ]
  },
  {
   "cell_type": "markdown",
   "metadata": {},
   "source": [
    "So, to meet the diet amount, you would need to eat the following:\n",
    "Cheerios: .66667 (2/3) - Serving\n",
    "Cinnamon Toast Crunch: 1 - Serving\n",
    "Rice Krispies .33333 (1/3) - Serving"
   ]
  },
  {
   "cell_type": "code",
   "execution_count": 11,
   "metadata": {},
   "outputs": [
    {
     "data": {
      "text/plain": [
       "array([[241.66666667],\n",
       "       [  6.        ],\n",
       "       [  6.66666667]])"
      ]
     },
     "execution_count": 11,
     "metadata": {},
     "output_type": "execute_result"
    }
   ],
   "source": [
    "np.matmul(A,v)"
   ]
  },
  {
   "cell_type": "markdown",
   "metadata": {},
   "source": [
    "This is done using x = np.linalg.solve"
   ]
  },
  {
   "cell_type": "code",
   "execution_count": 12,
   "metadata": {},
   "outputs": [
    {
     "data": {
      "text/plain": [
       "array([[0.66666667],\n",
       "       [1.        ],\n",
       "       [0.33333333]])"
      ]
     },
     "execution_count": 12,
     "metadata": {},
     "output_type": "execute_result"
    }
   ],
   "source": [
    "x = np.linalg.solve(ctr,d)\n",
    "x"
   ]
  },
  {
   "cell_type": "code",
   "execution_count": null,
   "metadata": {},
   "outputs": [],
   "source": []
  }
 ],
 "metadata": {
  "kernelspec": {
   "display_name": "Python 3",
   "language": "python",
   "name": "python3"
  },
  "language_info": {
   "codemirror_mode": {
    "name": "ipython",
    "version": 3
   },
   "file_extension": ".py",
   "mimetype": "text/x-python",
   "name": "python",
   "nbconvert_exporter": "python",
   "pygments_lexer": "ipython3",
   "version": "3.8.5"
  }
 },
 "nbformat": 4,
 "nbformat_minor": 4
}
