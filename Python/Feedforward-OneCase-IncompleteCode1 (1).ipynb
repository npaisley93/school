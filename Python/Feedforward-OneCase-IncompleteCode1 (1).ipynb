{
 "cells": [
  {
   "cell_type": "markdown",
   "metadata": {},
   "source": [
    "Nicholas Paisley"
   ]
  },
  {
   "cell_type": "code",
   "execution_count": 2,
   "metadata": {},
   "outputs": [
    {
     "name": "stdout",
     "output_type": "stream",
     "text": [
      "Starting ...\n"
     ]
    },
    {
     "name": "stdin",
     "output_type": "stream",
     "text": [
      "sigmoid(1) or RELU(-1)? -1\n"
     ]
    },
    {
     "name": "stdout",
     "output_type": "stream",
     "text": [
      "Features :  [[0]\n",
      " [0]\n",
      " [0]\n",
      " [0]\n",
      " [0]]\n",
      " Targets :  [0 1]\n",
      " Targets predicted :  [[2.498029 ]\n",
      " [2.3511296]]\n"
     ]
    }
   ],
   "source": [
    "import numpy as np\n",
    "\n",
    "#Create loop.\n",
    "\n",
    "# 5  [H1 H2] 2\n",
    "\n",
    "# +\n",
    "# +  [+\n",
    "# +  [+  +]\n",
    "# +  [+  +]  +\n",
    "# +  [+  +]  +  \n",
    "#      ^\n",
    "#      |\n",
    "#   black box\n",
    "\n",
    "def feed_forward(features,w1,b1,w2,b2,w3,b3,act):\n",
    "    Olayer1 = np.matmul(w1, features) + b1 #Computing next row of nodes/features (4) [Hidden Layer 1]\n",
    "    Olayer2 = np.matmul(w2, Olayer1) + b2  #Computing next row of nodes/features (3) [Hidden Layer 2]\n",
    "    Olayer3 = np.matmul(w3, Olayer2) + b3  #Computing next row of nodes/features (2) Node/Features\n",
    "    #Giving the option to choose either sigmoid and/or RELU\n",
    "    if int(act) > 0:\n",
    "        Output1 = sigmoid(Olayer3)\n",
    "    else:\n",
    "        Output1 = RELU(Olayer3)\n",
    "    return(Output1)\n",
    "    \n",
    "#Definitions for the Sigmoid or RELU \n",
    "\n",
    "def sigmoid(x): #Creating a definition for Sigmoid function\n",
    "    return 1/(1+np.exp(-x)) #Sigmoid function\n",
    "    \n",
    "def RELU(x):\n",
    "    if all(x) > 0: #all() function returns True if all items in an iterable are true\n",
    "        return np.around(x,decimals=7) #around() function rounds the given number to the amount of decimals given\n",
    "    else:\n",
    "        return 0\n",
    "\n",
    "#====================================================\n",
    "\n",
    "    return targets_predicted\n",
    "\n",
    "#=====================================================\n",
    "    \n",
    "print('Starting ...')\n",
    "\n",
    "## Set up training data with just one case\n",
    "\n",
    "#Given the features (the 5 starting X1,X2,X3,X4,X5). We are starting out with a (5x1) matrix (Input layer).\n",
    "features = np.array([[0],  \n",
    "                     [0], \n",
    "                     [0], \n",
    "                     [0], \n",
    "                     [0]]) \n",
    "\n",
    "targets_observed = np.array([0,1]) #The numbers we want to achieve after black box calculations. The final answers for the last 2 features.\n",
    "number_of_features,number_of_cases = 5,1 #Starting with 5 nodes (features) and 1 case (basically stating we have a (5x1)).\n",
    "    \n",
    "weights_1 = np.random.rand(4,5) #Setting the dimensions of the matrix for our random weights (rows by columns)\n",
    "biases_1 =  np.random.rand(4,1) #Setting the dimensions of the matrix for our baises (rows by columns)\n",
    "\n",
    "#print(\"Weights_1 = \" , weights_1)\n",
    "\n",
    "#Input Layer E R5 ----> Output Layer E R4\n",
    "\n",
    "#      (4 x 5)                 (5 x 1)   (4 x 1)\n",
    "#w1,1 w1,2 w1,3 w1,4 w1,5        x1        b1        w1,1x1 + w1,2x2 + w1,3x3 + w1,4x4 + w1,5x5 + b1\n",
    "#w2,1 w2,2 w2,3 w2,4 w2,5   *    x2    +   b2    =   w2,1x1 + w2,2x2 + w2,3x3 + w2,4x4 + w2,5x5 + b2 = (4 x 1) matrix with new features after calculations for Hidden Layer 1\n",
    "#w3,1 w3,2 w3,3 w3,4 w3,5        x3        b3        w3,1x1 + w3,2x2 + w3,3x3 + w3,4x4 + w3,5x5 + b3\n",
    "#w4,1 w4,2 w4,3 w4,4 w4,5        x4        b4        w4,1x1 + w4,2x2 + w4,3x3 + w4,4x4 + w4,5x5 + b4\n",
    "#                                x5\n",
    "\n",
    "#This process continues until we hit our destination of 2 nodes/features.\n",
    "\n",
    "weights_2 = np.random.rand(3,4)\n",
    "biases_2 = np.random.rand(3,1)\n",
    "\n",
    "#(3 x 4) weights * (4 x 1) features + (3 x 1) biases = (3 x 1) matrix for new features after calculations for Hidden Layer 2\n",
    "\n",
    "#      (3 x 4)           (4 x 1)   (3 x 1)\n",
    "#w1,1 w1,2 w1,3 w1,4       x1        b1       w1,1x1 + w1,2x2 + w1,3x3 + w1,4x4 + b1\n",
    "#w2,1 w2,2 w2,3 w2,4    *  x2    +   b2   =   w2,1x1 + w2,2x2 + w2,3x3 + w2,4x4 + b2 = (3 x 1) matrix with new features after calculations for Hidden Layer 2\n",
    "#w3,1 w3,2 w3,3 w3,4       x3        b3       w3,1x1 + w3,2x2 + w3,3x3 + w3,4x4 + b3\n",
    "#                          x4\n",
    "\n",
    "weights_3 = np.random.rand(2,3)\n",
    "biases_3 = np.random.rand(2,1)\n",
    "\n",
    "#print(\"Weight_3 =\" , weights_3)\n",
    "\n",
    "#(2 x 3) weights * (3 x 1) features + (2 x 1) = (2 x 1) matrix for new features after calculations for 2 features (our ending)\n",
    "\n",
    "#   (2 x 3)        (3 x 1)   (2 x 1)\n",
    "#w1,1 w1,2 w1,3      x1        b1       w1,1x1 + w1,2x2 + w1,3x3 + b1\n",
    "#w2,1 w2,2 w2,3   *  x2    +   b2   =   w2,1x1 + w2,2x2 + w2,3x3 + b2 = (2 x 1) matrix with new features after calculations for Hidden Layer 2\n",
    "#                    x3               \n",
    "                             \n",
    "act = input(\"sigmoid(1) or RELU(-1)?\") #Using an input to allow you to call either Sigmoid or RELU\n",
    "\n",
    "#Calling the \"feed_foward\" definition and saving the result as \"Targets_Predicted\"\n",
    "Targets_Predicted = feed_forward(features,weights_1,biases_1,\n",
    "                                      weights_2,biases_2,\n",
    "                                      weights_3,biases_3,act)\n",
    "\n",
    "print('Features : ',features) #our beginning features that we are given to us\n",
    "print(' Targets : ', targets_observed) #printing the \"target_observed\" variables [0,1] <- This is what we want our results to be. \n",
    "print(' Targets predicted : ', Targets_Predicted) #Prints out our predict values from either the Sigmoid and/or RELU function.    "
   ]
  }
 ],
 "metadata": {
  "kernelspec": {
   "display_name": "Python 3",
   "language": "python",
   "name": "python3"
  },
  "language_info": {
   "codemirror_mode": {
    "name": "ipython",
    "version": 3
   },
   "file_extension": ".py",
   "mimetype": "text/x-python",
   "name": "python",
   "nbconvert_exporter": "python",
   "pygments_lexer": "ipython3",
   "version": "3.8.5"
  }
 },
 "nbformat": 4,
 "nbformat_minor": 4
}
