{
 "cells": [
  {
   "cell_type": "markdown",
   "metadata": {},
   "source": [
    "Week 2 - Submission 2\n",
    "a) For the function you plotted in task 1 compute the steepness/slope/gradient at two different x values using numerical differentiation (i.e. the estimating technique). Do this twice for each, using Δx values of 0.1 and 0.01. Comment on your answers.\n",
    "b) Plot the function x = [0,1,2,3,4,5], y =[10,9,6,4,6,10]. Estimate the slope between x=1 and x=2 using numerical differentiation; estimate the slope between x=4 and x=5.\n",
    "Provide code and answers in a pdf as always."
   ]
  },
  {
   "cell_type": "code",
   "execution_count": 4,
   "metadata": {},
   "outputs": [
    {
     "name": "stdout",
     "output_type": "stream",
     "text": [
      "The slope at 5 is 0.29381904623473787\n",
      "The slope at 5 is 0.26186559396736975\n",
      "The slope at 3 is -0.8585280617260338\n",
      "The slope at 3 is -0.8583329480309043\n"
     ]
    }
   ],
   "source": [
    "# import libraries that are required\n",
    "import numpy as np\n",
    "import sys\n",
    "import matplotlib.pyplot as plt\n",
    "\n",
    "def f(x):\n",
    "    return 2 + np.exp(-.05*x) * np.sin(x)\n",
    "#created a def and then returned the equation\n",
    "\n",
    "#x at 5 \n",
    "dx = 0.1 #dx value\n",
    "x = 5 #x value\n",
    "df_dx = (f(x+dx) - f(x)) / dx #used the slope equation\n",
    "print(\"The slope at\" ,x, \"is\" ,df_dx)\n",
    "\n",
    "#x at 5\n",
    "dx = 0.01 #dx value\n",
    "x = 5 #x value\n",
    "df_dx = (f(x+dx) - f(x)) / dx #used the slope equation\n",
    "print(\"The slope at\" ,x, \"is\" ,df_dx)\n",
    "\n",
    "#x at 3\n",
    "dx = 0.1 #dx value\n",
    "x = 3 #x value\n",
    "df_dx = (f(x+dx) - f(x)) / dx #used the slope equation\n",
    "print(\"The slope at\" ,x, \"is\" ,df_dx)\n",
    "\n",
    "dx = 0.01 #dx value\n",
    "x = 3 #x value\n",
    "df_dx = (f(x+dx) - f(x)) / dx #used the slope equation\n",
    "print(\"The slope at\" ,x, \"is\" ,df_dx)"
   ]
  },
  {
   "cell_type": "code",
   "execution_count": 6,
   "metadata": {},
   "outputs": [
    {
     "name": "stdout",
     "output_type": "stream",
     "text": [
      "The slope at 5 is 0.2566934938860599\n",
      "The slope at 5 is 0.23291276421049112\n",
      "The slope at 3 is -0.7404706297401376\n",
      "The slope at 3 is -0.7436306272006199\n"
     ]
    }
   ],
   "source": [
    "def f(x):\n",
    "    return 2 + np.exp(-.1*x) * np.sin(x)\n",
    "#created a def and then returned the equation\n",
    "\n",
    "#x at 5 \n",
    "dx = 0.1 #dx value\n",
    "x = 5 #x value\n",
    "df_dx = (f(x+dx) - f(x)) / dx #used the slope equation\n",
    "print(\"The slope at\" ,x, \"is\" ,df_dx)\n",
    "\n",
    "#x at 5\n",
    "dx = 0.01 #dx value\n",
    "x = 5 #x value\n",
    "df_dx = (f(x+dx) - f(x)) / dx #used the slope equation\n",
    "print(\"The slope at\" ,x, \"is\" ,df_dx)\n",
    "\n",
    "#x at 3\n",
    "dx = 0.1 #dx value\n",
    "x = 3 #x value\n",
    "df_dx = (f(x+dx) - f(x)) / dx #used the slope equation\n",
    "print(\"The slope at\" ,x, \"is\" ,df_dx)\n",
    "\n",
    "dx = 0.01 #dx value\n",
    "x = 3 #x value\n",
    "df_dx = (f(x+dx) - f(x)) / dx #used the slope equation\n",
    "print(\"The slope at\" ,x, \"is\" ,df_dx)"
   ]
  },
  {
   "cell_type": "markdown",
   "metadata": {},
   "source": [
    "The df_dx formula is that of a secant line. The lower the delta x, the closer the line is to the true tangent, which is the slope. \n",
    "Therefore, since the second delta x is smaller, that secant line is getting closet to the true tangent line (slope)."
   ]
  },
  {
   "cell_type": "code",
   "execution_count": 3,
   "metadata": {},
   "outputs": [
    {
     "data": {
      "image/png": "[encoded data removed]",
      "text/plain": [
       "<Figure size 432x288 with 1 Axes>"
      ]
     },
     "metadata": {
      "needs_background": "light"
     },
     "output_type": "display_data"
    }
   ],
   "source": [
    "x = [0,1,2,3,4,5] #x points\n",
    "y =[10,9,6,4,6,10] #y points\n",
    "\n",
    "plt.plot(x,y, color='green', linewidth=5)\n",
    "plt.xlim([0,5]) #x domain\n",
    "plt.ylim([0,10]) #y domain\n",
    "plt.xlabel('x',fontsize=18) #x label\n",
    "h=plt.ylabel('y',fontsize=18) #y label\n",
    "plt.title('X and Y points',fontsize=18)\n",
    "h.set_rotation(0)\n",
    "plt.show()"
   ]
  },
  {
   "cell_type": "code",
   "execution_count": 5,
   "metadata": {},
   "outputs": [],
   "source": [
    "#Created a slope definition and also the formula for slope with points\n",
    "def slope(x1,x2,y1,y2): #created definition to put in values for my points\n",
    "    return (y2-y1)/(x2-x1) #slope/stepness function"
   ]
  },
  {
   "cell_type": "code",
   "execution_count": 36,
   "metadata": {},
   "outputs": [
    {
     "data": {
      "text/plain": [
       "-3.0"
      ]
     },
     "execution_count": 36,
     "metadata": {},
     "output_type": "execute_result"
    }
   ],
   "source": [
    "#Used def to find slope at x=1 and x=2\n",
    "slope(1,2,9,6)"
   ]
  },
  {
   "cell_type": "code",
   "execution_count": 37,
   "metadata": {},
   "outputs": [
    {
     "data": {
      "text/plain": [
       "4.0"
      ]
     },
     "execution_count": 37,
     "metadata": {},
     "output_type": "execute_result"
    }
   ],
   "source": [
    "#Used def to find slope at x=4 and x=5\n",
    "slope(4,5,6,10)"
   ]
  }
 ],
 "metadata": {
  "kernelspec": {
   "display_name": "Python 3",
   "language": "python",
   "name": "python3"
  },
  "language_info": {
   "codemirror_mode": {
    "name": "ipython",
    "version": 3
   },
   "file_extension": ".py",
   "mimetype": "text/x-python",
   "name": "python",
   "nbconvert_exporter": "python",
   "pygments_lexer": "ipython3",
   "version": "3.8.5"
  }
 },
 "nbformat": 4,
 "nbformat_minor": 4
}
